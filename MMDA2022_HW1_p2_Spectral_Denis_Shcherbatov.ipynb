{
  "cells": [
    {
      "cell_type": "markdown",
      "metadata": {
        "id": "W7b8yd6V_jB4"
      },
      "source": [
        "# Homework 2 (Part 2): Spectral clustering\n"
      ]
    },
    {
      "cell_type": "markdown",
      "metadata": {
        "id": "8ZoDISAY_jB5"
      },
      "source": [
        "<span style=\"color: red; font-size: 14pt\">Soft deadline: 15.12.2022</span>\n",
        "\n",
        "<span style=\"color: red; font-size: 14pt\">Hard deadline: 16.12.2022 </span>"
      ]
    },
    {
      "cell_type": "markdown",
      "metadata": {
        "id": "AOuLEWCx_jB6"
      },
      "source": [
        "**Requirements**: \n",
        "\n",
        "- The report shoulbe in a file: ``MMDA2022-HW1-p2-Spectral_<your_full_name>.ipynb``;\n",
        "- It should be sent to dmitrii.ignatov@gmail.com (Dmitry Ignatov: the lecturer) and futurelifestefan@gmail.com (Stefan Nikolić: TA) with the topic [MMDA2022-HW1-p2-Spectral]-your_full_name.\n",
        "\n",
        "\n"
      ]
    },
    {
      "cell_type": "code",
      "execution_count": 1,
      "metadata": {
        "id": "zEjMle2E_jB7"
      },
      "outputs": [],
      "source": [
        "import numpy as np\n",
        "import pandas as pd\n",
        "import matplotlib.pyplot as plt\n",
        "\n",
        "%matplotlib inline"
      ]
    },
    {
      "cell_type": "markdown",
      "metadata": {
        "id": "iMLklZJl_jB-"
      },
      "source": [
        "In this exercise we follow graph clustering example from David Gleich's tutorial: https://www.dropbox.com/s/w06niyzfe2r8y90/tutorial.pdf?dl=0."
      ]
    },
    {
      "cell_type": "markdown",
      "metadata": {
        "id": "kxgoE3XV_jCA"
      },
      "source": [
        "### 1 (Warm up). Finding a partition (0%)\n",
        "Generate a graph repsresnted by its adjecency matrix that consists of two communities."
      ]
    },
    {
      "cell_type": "code",
      "execution_count": 2,
      "metadata": {
        "id": "pFt1ZGPZ_jCA"
      },
      "outputs": [],
      "source": [
        "# the number of vertices\n",
        "# (each vertex is an individual actor, for example, a person with certain political views, e.g. republican or democrat\n",
        "\n",
        "n = 1000\n",
        "\n",
        "# an array of n vertices\n",
        "x = np.arange(n)\n",
        "\n",
        "# random permutations\n",
        "np.random.shuffle(x)\n",
        "\n",
        "# the size of the first group\n",
        "gs = 450\n",
        "\n",
        "# let us select gs group members to the first group\n",
        "group1 = x[:gs]\n",
        "\n",
        "# and n-gs representatives to the second one\n",
        "group2 = x[gs:]\n",
        "\n",
        "# the probability of connection within the first group\n",
        "p_group1 = 0.5\n",
        "\n",
        "# the probability of connection within the second group\n",
        "p_group2 = 0.4\n",
        "\n",
        "# intergroup connections\n",
        "p_between = 0.1\n",
        "\n",
        "# initialistion of the adjacency matrix nxn\n",
        "A = np.zeros([n, n])"
      ]
    },
    {
      "cell_type": "code",
      "execution_count": 3,
      "metadata": {
        "id": "EJCMZifaDfcR"
      },
      "outputs": [],
      "source": [
        "n = 1000"
      ]
    },
    {
      "cell_type": "code",
      "execution_count": 4,
      "metadata": {
        "id": "3tFvbpLnDfcf"
      },
      "outputs": [],
      "source": [
        "x = np.arange(n)"
      ]
    },
    {
      "cell_type": "code",
      "execution_count": 5,
      "metadata": {
        "colab": {
          "base_uri": "https://localhost:8080/"
        },
        "id": "r-YFgOEtDfcv",
        "outputId": "00fe61af-3a6e-47a3-d209-6aa675ef9ca7"
      },
      "outputs": [
        {
          "output_type": "execute_result",
          "data": {
            "text/plain": [
              "array([  0,   1,   2,   3,   4,   5,   6,   7,   8,   9,  10,  11,  12,\n",
              "        13,  14,  15,  16,  17,  18,  19,  20,  21,  22,  23,  24,  25,\n",
              "        26,  27,  28,  29,  30,  31,  32,  33,  34,  35,  36,  37,  38,\n",
              "        39,  40,  41,  42,  43,  44,  45,  46,  47,  48,  49,  50,  51,\n",
              "        52,  53,  54,  55,  56,  57,  58,  59,  60,  61,  62,  63,  64,\n",
              "        65,  66,  67,  68,  69,  70,  71,  72,  73,  74,  75,  76,  77,\n",
              "        78,  79,  80,  81,  82,  83,  84,  85,  86,  87,  88,  89,  90,\n",
              "        91,  92,  93,  94,  95,  96,  97,  98,  99, 100, 101, 102, 103,\n",
              "       104, 105, 106, 107, 108, 109, 110, 111, 112, 113, 114, 115, 116,\n",
              "       117, 118, 119, 120, 121, 122, 123, 124, 125, 126, 127, 128, 129,\n",
              "       130, 131, 132, 133, 134, 135, 136, 137, 138, 139, 140, 141, 142,\n",
              "       143, 144, 145, 146, 147, 148, 149, 150, 151, 152, 153, 154, 155,\n",
              "       156, 157, 158, 159, 160, 161, 162, 163, 164, 165, 166, 167, 168,\n",
              "       169, 170, 171, 172, 173, 174, 175, 176, 177, 178, 179, 180, 181,\n",
              "       182, 183, 184, 185, 186, 187, 188, 189, 190, 191, 192, 193, 194,\n",
              "       195, 196, 197, 198, 199, 200, 201, 202, 203, 204, 205, 206, 207,\n",
              "       208, 209, 210, 211, 212, 213, 214, 215, 216, 217, 218, 219, 220,\n",
              "       221, 222, 223, 224, 225, 226, 227, 228, 229, 230, 231, 232, 233,\n",
              "       234, 235, 236, 237, 238, 239, 240, 241, 242, 243, 244, 245, 246,\n",
              "       247, 248, 249, 250, 251, 252, 253, 254, 255, 256, 257, 258, 259,\n",
              "       260, 261, 262, 263, 264, 265, 266, 267, 268, 269, 270, 271, 272,\n",
              "       273, 274, 275, 276, 277, 278, 279, 280, 281, 282, 283, 284, 285,\n",
              "       286, 287, 288, 289, 290, 291, 292, 293, 294, 295, 296, 297, 298,\n",
              "       299, 300, 301, 302, 303, 304, 305, 306, 307, 308, 309, 310, 311,\n",
              "       312, 313, 314, 315, 316, 317, 318, 319, 320, 321, 322, 323, 324,\n",
              "       325, 326, 327, 328, 329, 330, 331, 332, 333, 334, 335, 336, 337,\n",
              "       338, 339, 340, 341, 342, 343, 344, 345, 346, 347, 348, 349, 350,\n",
              "       351, 352, 353, 354, 355, 356, 357, 358, 359, 360, 361, 362, 363,\n",
              "       364, 365, 366, 367, 368, 369, 370, 371, 372, 373, 374, 375, 376,\n",
              "       377, 378, 379, 380, 381, 382, 383, 384, 385, 386, 387, 388, 389,\n",
              "       390, 391, 392, 393, 394, 395, 396, 397, 398, 399, 400, 401, 402,\n",
              "       403, 404, 405, 406, 407, 408, 409, 410, 411, 412, 413, 414, 415,\n",
              "       416, 417, 418, 419, 420, 421, 422, 423, 424, 425, 426, 427, 428,\n",
              "       429, 430, 431, 432, 433, 434, 435, 436, 437, 438, 439, 440, 441,\n",
              "       442, 443, 444, 445, 446, 447, 448, 449, 450, 451, 452, 453, 454,\n",
              "       455, 456, 457, 458, 459, 460, 461, 462, 463, 464, 465, 466, 467,\n",
              "       468, 469, 470, 471, 472, 473, 474, 475, 476, 477, 478, 479, 480,\n",
              "       481, 482, 483, 484, 485, 486, 487, 488, 489, 490, 491, 492, 493,\n",
              "       494, 495, 496, 497, 498, 499, 500, 501, 502, 503, 504, 505, 506,\n",
              "       507, 508, 509, 510, 511, 512, 513, 514, 515, 516, 517, 518, 519,\n",
              "       520, 521, 522, 523, 524, 525, 526, 527, 528, 529, 530, 531, 532,\n",
              "       533, 534, 535, 536, 537, 538, 539, 540, 541, 542, 543, 544, 545,\n",
              "       546, 547, 548, 549, 550, 551, 552, 553, 554, 555, 556, 557, 558,\n",
              "       559, 560, 561, 562, 563, 564, 565, 566, 567, 568, 569, 570, 571,\n",
              "       572, 573, 574, 575, 576, 577, 578, 579, 580, 581, 582, 583, 584,\n",
              "       585, 586, 587, 588, 589, 590, 591, 592, 593, 594, 595, 596, 597,\n",
              "       598, 599, 600, 601, 602, 603, 604, 605, 606, 607, 608, 609, 610,\n",
              "       611, 612, 613, 614, 615, 616, 617, 618, 619, 620, 621, 622, 623,\n",
              "       624, 625, 626, 627, 628, 629, 630, 631, 632, 633, 634, 635, 636,\n",
              "       637, 638, 639, 640, 641, 642, 643, 644, 645, 646, 647, 648, 649,\n",
              "       650, 651, 652, 653, 654, 655, 656, 657, 658, 659, 660, 661, 662,\n",
              "       663, 664, 665, 666, 667, 668, 669, 670, 671, 672, 673, 674, 675,\n",
              "       676, 677, 678, 679, 680, 681, 682, 683, 684, 685, 686, 687, 688,\n",
              "       689, 690, 691, 692, 693, 694, 695, 696, 697, 698, 699, 700, 701,\n",
              "       702, 703, 704, 705, 706, 707, 708, 709, 710, 711, 712, 713, 714,\n",
              "       715, 716, 717, 718, 719, 720, 721, 722, 723, 724, 725, 726, 727,\n",
              "       728, 729, 730, 731, 732, 733, 734, 735, 736, 737, 738, 739, 740,\n",
              "       741, 742, 743, 744, 745, 746, 747, 748, 749, 750, 751, 752, 753,\n",
              "       754, 755, 756, 757, 758, 759, 760, 761, 762, 763, 764, 765, 766,\n",
              "       767, 768, 769, 770, 771, 772, 773, 774, 775, 776, 777, 778, 779,\n",
              "       780, 781, 782, 783, 784, 785, 786, 787, 788, 789, 790, 791, 792,\n",
              "       793, 794, 795, 796, 797, 798, 799, 800, 801, 802, 803, 804, 805,\n",
              "       806, 807, 808, 809, 810, 811, 812, 813, 814, 815, 816, 817, 818,\n",
              "       819, 820, 821, 822, 823, 824, 825, 826, 827, 828, 829, 830, 831,\n",
              "       832, 833, 834, 835, 836, 837, 838, 839, 840, 841, 842, 843, 844,\n",
              "       845, 846, 847, 848, 849, 850, 851, 852, 853, 854, 855, 856, 857,\n",
              "       858, 859, 860, 861, 862, 863, 864, 865, 866, 867, 868, 869, 870,\n",
              "       871, 872, 873, 874, 875, 876, 877, 878, 879, 880, 881, 882, 883,\n",
              "       884, 885, 886, 887, 888, 889, 890, 891, 892, 893, 894, 895, 896,\n",
              "       897, 898, 899, 900, 901, 902, 903, 904, 905, 906, 907, 908, 909,\n",
              "       910, 911, 912, 913, 914, 915, 916, 917, 918, 919, 920, 921, 922,\n",
              "       923, 924, 925, 926, 927, 928, 929, 930, 931, 932, 933, 934, 935,\n",
              "       936, 937, 938, 939, 940, 941, 942, 943, 944, 945, 946, 947, 948,\n",
              "       949, 950, 951, 952, 953, 954, 955, 956, 957, 958, 959, 960, 961,\n",
              "       962, 963, 964, 965, 966, 967, 968, 969, 970, 971, 972, 973, 974,\n",
              "       975, 976, 977, 978, 979, 980, 981, 982, 983, 984, 985, 986, 987,\n",
              "       988, 989, 990, 991, 992, 993, 994, 995, 996, 997, 998, 999])"
            ]
          },
          "metadata": {},
          "execution_count": 5
        }
      ],
      "source": [
        "x"
      ]
    },
    {
      "cell_type": "code",
      "execution_count": 6,
      "metadata": {
        "id": "F3Xg05LsDfc4"
      },
      "outputs": [],
      "source": [
        "np.random.shuffle(x)"
      ]
    },
    {
      "cell_type": "code",
      "execution_count": 7,
      "metadata": {
        "colab": {
          "base_uri": "https://localhost:8080/"
        },
        "id": "RRG-qE7dDfdB",
        "outputId": "90950996-c271-435e-c626-2e56c8d797a3"
      },
      "outputs": [
        {
          "output_type": "execute_result",
          "data": {
            "text/plain": [
              "array([767, 797, 144, 770, 176, 624, 499, 365, 902, 680, 858, 317, 827,\n",
              "       447, 289, 259, 633, 873, 214,  53, 184, 287, 711, 238, 963, 147,\n",
              "       482, 765, 960,  54, 208,  23, 584,  79, 750, 815, 721, 169, 416,\n",
              "       412, 190, 309, 652, 539, 724, 262, 329, 968, 908,  43, 442, 796,\n",
              "       967, 718, 682,   9,  10, 565, 597, 924, 112, 957, 187, 464, 959,\n",
              "       940, 285, 760, 273, 275, 618,  35, 312, 222, 417, 932, 983, 110,\n",
              "       918, 810, 236, 269, 837, 239, 568, 165, 688, 405, 478, 951, 483,\n",
              "       708, 314, 809, 175, 914, 752, 793, 393, 331, 385, 356, 223,  31,\n",
              "       323, 886, 614, 916, 497, 293, 936, 956, 943, 124, 579, 404, 111,\n",
              "        56, 167, 377, 994, 601,  64, 515, 336, 759, 267, 889, 882, 869,\n",
              "       544, 644,  81, 168, 433, 691, 779, 558, 278, 109, 866, 490, 361,\n",
              "       407, 507, 589, 301, 414, 280, 818, 295, 573,   2, 369, 602, 952,\n",
              "       929, 745, 586,  97, 378, 814, 519, 860,  99, 985, 387,  70, 802,\n",
              "         3, 542, 877, 590, 973, 669,  71, 266,  38, 197, 583, 862, 196,\n",
              "       910,  58, 392, 995, 667, 424, 610, 917,  72,  25,  30, 531, 768,\n",
              "       737, 938, 764, 794, 623, 840, 315, 775, 592, 817,  18, 613, 947,\n",
              "       712, 890, 209, 123,  41, 380, 461, 122, 216, 258, 357, 406, 969,\n",
              "       964, 928, 245, 906, 849, 647, 993, 230, 663, 606, 246, 495, 698,\n",
              "       445, 987, 776, 734, 845, 577, 780, 900, 362, 411, 250, 116, 741,\n",
              "       155, 884, 193, 367, 875,  93, 640, 474, 281, 243, 195, 384,  73,\n",
              "        42, 733, 651,  75, 200, 690, 448, 962, 308, 587,  37, 560,  63,\n",
              "         5, 172, 166, 662, 950, 675, 616, 180, 685, 746, 390, 242, 666,\n",
              "        88, 774, 139, 876, 696, 469, 798, 311, 695,  47, 842, 949,  85,\n",
              "       811, 751, 572, 485, 310,  92, 224, 843, 135, 661, 517, 883, 744,\n",
              "       563, 778, 958, 660, 927, 379, 621,  14, 284, 419,  15, 672, 582,\n",
              "       494,   7, 294, 381, 891, 749, 980, 901, 922, 854, 227, 532, 234,\n",
              "       828, 971, 429, 907, 207, 342, 701, 125, 291, 856, 164, 954, 747,\n",
              "       574, 465, 373, 134, 268, 260, 831, 344, 717, 719, 434, 146, 263,\n",
              "       654, 617, 966, 444, 792, 463, 271, 981, 103, 233, 944, 252, 756,\n",
              "       186, 553, 941, 736, 156, 104, 838, 489, 540, 697, 398, 335, 255,\n",
              "       911, 511, 888, 789, 992, 710, 611, 188, 420, 953, 343, 235, 136,\n",
              "       313, 217, 795, 713, 650, 833, 149, 564, 202, 979, 132, 530, 493,\n",
              "        20, 578, 556, 181, 976, 804, 800, 763, 826, 893, 261, 844, 127,\n",
              "       345, 251, 643,   8, 879, 114,  48, 991, 277, 425, 481, 982, 117,\n",
              "       773, 665, 162, 488, 988, 673, 836, 885, 551, 192, 306, 743, 896,\n",
              "       645, 506, 761, 632, 471, 626, 726, 561, 555, 449, 894, 550, 567,\n",
              "       974, 642, 865, 723, 600, 659, 121, 472,   4, 171, 999, 332, 735,\n",
              "       903, 990, 303, 808, 322, 218, 739, 520, 391, 921, 226, 812, 133,\n",
              "       609, 861, 731, 247, 668, 231,  82, 370, 292, 639,  27, 220, 948,\n",
              "       240, 142, 915, 221, 210, 622, 628, 852, 514, 705, 816, 684, 996,\n",
              "       408, 678, 595, 821, 395, 615, 881, 926, 501, 892, 871, 505, 270,\n",
              "       254, 904,  11,   1, 547, 432, 191, 772, 346, 174, 607,  86, 466,\n",
              "       428, 173, 923, 646, 785, 534, 470, 349, 554, 360, 655, 783, 321,\n",
              "       782,  16,  68, 320, 491, 241, 105, 771, 386, 545,  17, 326, 790,\n",
              "       460, 625, 430, 535, 786, 977, 619, 279, 154, 580,  62, 806, 857,\n",
              "       363, 516, 603,  98,  89, 351, 686, 439, 299, 781, 338, 276, 145,\n",
              "       319, 503, 851, 805, 834, 510, 330, 528, 183, 163, 212, 738, 596,\n",
              "       457, 170, 638, 939, 824, 265, 458, 989, 140, 591, 997,  50, 536,\n",
              "        84, 853, 120, 451, 496, 935,   0, 508, 897, 839, 832, 288, 302,\n",
              "       769, 333, 257, 437, 185, 754, 931, 729, 523, 459,  22,  69, 248,\n",
              "       720, 552, 131, 476, 431, 699, 397, 402, 694, 557, 206, 341, 848,\n",
              "       454, 656, 588, 825, 492, 576, 709, 502, 529, 283, 518, 467, 455,\n",
              "        78, 286, 913,  66, 215, 868, 318, 440, 630, 304, 538, 707, 791,\n",
              "       664, 599, 153, 462, 253, 970, 732, 748, 274, 683, 919, 199, 484,\n",
              "       965, 730, 658, 687, 296, 150, 715, 961, 525, 604, 423, 700, 487,\n",
              "       371, 182,  96, 324,  77, 912,  13, 716, 546, 272, 955, 570, 677,\n",
              "       101,  49, 383, 984, 389,  34,  55, 880, 138, 130, 264, 548, 204,\n",
              "       435,  46,  95, 339,  76, 452, 509, 388, 559, 443, 157, 372, 108,\n",
              "       119, 895, 689, 714, 637, 670, 762, 327,  80, 415, 598, 410, 620,\n",
              "       376, 864,  12, 909,  40, 456, 905, 364,  90, 348, 722, 575, 933,\n",
              "       307, 872, 228, 426, 740, 526, 946, 409, 522,  44, 702,  36, 850,\n",
              "       298, 820, 725,  51, 441, 203, 549,  33,  29, 728, 401, 942, 151,\n",
              "        59, 594, 787,  28, 421, 870,  91, 841, 152, 297, 450, 189, 141,\n",
              "       115, 975, 403, 422, 300, 671,  83, 829, 126, 823, 801, 692,  21,\n",
              "       803, 201, 899, 237, 118, 194, 374, 566, 631, 676, 636, 777, 945,\n",
              "       727, 605, 159, 340, 375, 758, 400, 512, 706, 394, 148, 352, 107,\n",
              "       161, 480, 753, 498, 137, 524,  74, 160, 681, 316, 290, 874, 382,\n",
              "       347, 229, 527, 477, 703, 256, 128, 788,  61, 354, 925, 178, 543,\n",
              "       350, 799, 978, 635, 629, 541, 368, 641, 219, 436, 533, 325,  39,\n",
              "       521, 366, 179, 100, 863, 396, 755, 305, 479, 438, 648, 581, 359,\n",
              "        32, 427, 353, 282, 608, 399, 129, 334,  52,  57,  65, 562, 846,\n",
              "        67,  24, 847, 813, 504, 920, 446, 453, 225, 232, 674, 934, 898,\n",
              "       822, 867, 593, 784,  87, 177, 704, 213, 486, 830, 859, 649, 855,\n",
              "        26, 657, 634, 766, 819, 585, 571, 355, 198, 211,  60, 835, 930,\n",
              "       513, 972, 113, 500, 878, 986, 612, 693, 249,   6,  45, 468, 937,\n",
              "       653, 473, 537, 337, 627, 143,  19, 475, 102,  94, 358, 328, 757,\n",
              "       418, 205, 887, 807, 742, 158, 569, 679, 413, 106, 998, 244])"
            ]
          },
          "metadata": {},
          "execution_count": 7
        }
      ],
      "source": [
        "x"
      ]
    },
    {
      "cell_type": "code",
      "execution_count": 7,
      "metadata": {
        "id": "odWipdBnDfdR"
      },
      "outputs": [],
      "source": []
    },
    {
      "cell_type": "code",
      "execution_count": 8,
      "metadata": {
        "id": "wbUSdZEyDfdU"
      },
      "outputs": [],
      "source": [
        "# the size of the first group\n",
        "gs = 450\n",
        "\n",
        "# let us select gs group members to the first group\n",
        "group1 = x[:gs]"
      ]
    },
    {
      "cell_type": "code",
      "execution_count": 9,
      "metadata": {
        "colab": {
          "base_uri": "https://localhost:8080/"
        },
        "id": "Yy8RFMSbDfdd",
        "outputId": "c7c1ed66-4201-4de0-ff97-e32897a409a1"
      },
      "outputs": [
        {
          "output_type": "execute_result",
          "data": {
            "text/plain": [
              "450"
            ]
          },
          "metadata": {},
          "execution_count": 9
        }
      ],
      "source": [
        "len(group1)"
      ]
    },
    {
      "cell_type": "code",
      "execution_count": 10,
      "metadata": {
        "colab": {
          "base_uri": "https://localhost:8080/"
        },
        "id": "sW1uxynADfdi",
        "outputId": "6845dcf8-f2da-4bcf-9c67-fee5fd0a7555"
      },
      "outputs": [
        {
          "output_type": "execute_result",
          "data": {
            "text/plain": [
              "450"
            ]
          },
          "metadata": {},
          "execution_count": 10
        }
      ],
      "source": [
        "len(group1)"
      ]
    },
    {
      "cell_type": "code",
      "execution_count": 11,
      "metadata": {
        "id": "r6oAk-7XDfdt"
      },
      "outputs": [],
      "source": [
        "# and n-gs representatives to the second one\n",
        "group2 = x[gs:]"
      ]
    },
    {
      "cell_type": "code",
      "execution_count": 12,
      "metadata": {
        "id": "2vCCxkc7Dfd-"
      },
      "outputs": [],
      "source": [
        "# the probability of connection within the first group\n",
        "p_group1 = 0.5\n",
        "\n",
        "# the probability of connection within the second group\n",
        "p_group2 = 0.4\n",
        "\n",
        "# intergroup connections\n",
        "p_between = 0.1\n",
        "\n",
        "# initialistion of the adjacency matrix nxn\n",
        "A = np.zeros([n, n])"
      ]
    },
    {
      "cell_type": "code",
      "execution_count": 13,
      "metadata": {
        "colab": {
          "base_uri": "https://localhost:8080/"
        },
        "id": "zbK1zafYDfeE",
        "outputId": "92a4a1c3-a0ce-4317-c38d-d265c89e9614"
      },
      "outputs": [
        {
          "output_type": "execute_result",
          "data": {
            "text/plain": [
              "array([[0., 0., 0., ..., 0., 0., 0.],\n",
              "       [0., 0., 0., ..., 0., 0., 0.],\n",
              "       [0., 0., 0., ..., 0., 0., 0.],\n",
              "       ...,\n",
              "       [0., 0., 0., ..., 0., 0., 0.],\n",
              "       [0., 0., 0., ..., 0., 0., 0.],\n",
              "       [0., 0., 0., ..., 0., 0., 0.]])"
            ]
          },
          "metadata": {},
          "execution_count": 13
        }
      ],
      "source": [
        "A"
      ]
    },
    {
      "cell_type": "code",
      "execution_count": 14,
      "metadata": {
        "id": "vDRbyot__jCE"
      },
      "outputs": [],
      "source": [
        "assert A.shape == (1000, 1000)"
      ]
    },
    {
      "cell_type": "code",
      "execution_count": 14,
      "metadata": {
        "id": "2btd-EHUDfeU"
      },
      "outputs": [],
      "source": []
    },
    {
      "cell_type": "code",
      "execution_count": 15,
      "metadata": {
        "colab": {
          "base_uri": "https://localhost:8080/"
        },
        "id": "ltxWNpEY_jCI",
        "outputId": "581cff8d-0d32-472a-942a-604bb88a5827"
      },
      "outputs": [
        {
          "output_type": "execute_result",
          "data": {
            "text/plain": [
              "(450, 450)"
            ]
          },
          "metadata": {},
          "execution_count": 15
        }
      ],
      "source": [
        "# adjecency submatrix for the first group\n",
        "A[np.ix_(group1, group1)].shape"
      ]
    },
    {
      "cell_type": "code",
      "execution_count": 16,
      "metadata": {
        "colab": {
          "base_uri": "https://localhost:8080/"
        },
        "id": "6orZcQT-Dfei",
        "outputId": "4ccb0cbc-96fb-428a-c5cb-eb27eb08b959"
      },
      "outputs": [
        {
          "output_type": "execute_result",
          "data": {
            "text/plain": [
              "array([[False, False,  True, ...,  True,  True, False],\n",
              "       [False,  True,  True, ..., False,  True, False],\n",
              "       [False,  True, False, ..., False,  True,  True],\n",
              "       ...,\n",
              "       [ True,  True,  True, ..., False, False,  True],\n",
              "       [ True,  True,  True, ..., False,  True, False],\n",
              "       [ True, False,  True, ...,  True, False,  True]])"
            ]
          },
          "metadata": {},
          "execution_count": 16
        }
      ],
      "source": [
        "np.random.rand(gs, gs) < p_group1"
      ]
    },
    {
      "cell_type": "code",
      "execution_count": 17,
      "metadata": {
        "colab": {
          "base_uri": "https://localhost:8080/"
        },
        "id": "hHN5nEOADfev",
        "outputId": "7333d1d2-6f62-4d65-db11-2ae280dc4ab7"
      },
      "outputs": [
        {
          "output_type": "execute_result",
          "data": {
            "text/plain": [
              "array([[9.59599976e-01, 3.95506677e-01, 5.06871579e-01, ...,\n",
              "        8.79774455e-01, 1.67576985e-04, 6.18958313e-01],\n",
              "       [5.07854554e-01, 5.60015431e-01, 9.27398553e-02, ...,\n",
              "        3.57934085e-01, 9.58634186e-01, 1.63776399e-03],\n",
              "       [5.37564323e-01, 9.77360674e-01, 8.87845388e-01, ...,\n",
              "        8.61844609e-01, 5.60630724e-01, 5.86805639e-01],\n",
              "       ...,\n",
              "       [8.05100480e-01, 9.29542128e-03, 4.99890136e-01, ...,\n",
              "        5.14462575e-01, 1.64920696e-01, 3.51075760e-01],\n",
              "       [4.30096175e-01, 6.36677637e-01, 7.86100955e-01, ...,\n",
              "        1.66193953e-01, 6.12550851e-01, 5.46586083e-01],\n",
              "       [4.82812237e-01, 2.05084396e-01, 2.02626494e-01, ...,\n",
              "        1.29742508e-01, 5.90529333e-01, 7.05235202e-01]])"
            ]
          },
          "metadata": {},
          "execution_count": 17
        }
      ],
      "source": [
        "np.random.rand(gs, gs) "
      ]
    },
    {
      "cell_type": "code",
      "execution_count": 18,
      "metadata": {
        "id": "BO9gouwc_jCN"
      },
      "outputs": [],
      "source": [
        "# generation of connections in the first group\n",
        "A[np.ix_(group1, group1)] = np.random.rand(gs, gs) < p_group1\n",
        "\n",
        "# generation of connections in the second group\n",
        "A[np.ix_(group2, group2)] = np.random.rand(n-gs, n-gs) < p_group2\n",
        "\n",
        "# genegation of intergroup connections\n",
        "A[np.ix_(group1, group2)] = np.random.rand(gs, n-gs) < p_between\n",
        "\n",
        "# we need a symmetric matrix for modeling \"friendship relationship\"\n",
        "# and cut the upper triangle matrix\n",
        "A = np.triu(A,1)\n",
        "\n",
        "\n",
        "# let us transpose it and add to the upper triangle matrix\n",
        "A = A + A.T"
      ]
    },
    {
      "cell_type": "code",
      "execution_count": 19,
      "metadata": {
        "id": "XQJ8p0DiDfe8"
      },
      "outputs": [],
      "source": [
        "# generation of connections in the first group\n",
        "A[np.ix_(group1, group1)] = np.random.rand(gs, gs) < p_group1\n",
        "\n",
        "# generation of connections in the second group\n",
        "A[np.ix_(group2, group2)] = np.random.rand(n-gs, n-gs) < p_group2\n",
        "\n",
        "# genegation of intergroup connections\n",
        "A[np.ix_(group1, group2)] = np.random.rand(gs, n-gs) < p_between\n",
        "\n"
      ]
    },
    {
      "cell_type": "code",
      "execution_count": 20,
      "metadata": {
        "colab": {
          "base_uri": "https://localhost:8080/",
          "height": 287
        },
        "id": "gxMlCFaCDffB",
        "outputId": "92bc4c6b-e78f-432a-8cca-e221df5c7c6f"
      },
      "outputs": [
        {
          "output_type": "execute_result",
          "data": {
            "text/plain": [
              "<matplotlib.collections.QuadMesh at 0x7f9f96636ac0>"
            ]
          },
          "metadata": {},
          "execution_count": 20
        },
        {
          "output_type": "display_data",
          "data": {
            "text/plain": [
              "<Figure size 432x288 with 1 Axes>"
            ],
            "image/png": "[encoded data removed]"
          },
          "metadata": {
            "needs_background": "light"
          }
        }
      ],
      "source": [
        "plt.pcolormesh(A)"
      ]
    },
    {
      "cell_type": "code",
      "execution_count": 21,
      "metadata": {
        "id": "tugDCyr6DffE"
      },
      "outputs": [],
      "source": [
        "A = np.triu(A,1)"
      ]
    },
    {
      "cell_type": "code",
      "execution_count": 22,
      "metadata": {
        "colab": {
          "base_uri": "https://localhost:8080/",
          "height": 287
        },
        "id": "F8eH_6CPDffH",
        "outputId": "f09a493d-ca01-47a8-a7d9-6328d76596be"
      },
      "outputs": [
        {
          "output_type": "execute_result",
          "data": {
            "text/plain": [
              "<matplotlib.collections.QuadMesh at 0x7f9f96191640>"
            ]
          },
          "metadata": {},
          "execution_count": 22
        },
        {
          "output_type": "display_data",
          "data": {
            "text/plain": [
              "<Figure size 432x288 with 1 Axes>"
            ],
            "image/png": "[encoded data removed]"
          },
          "metadata": {
            "needs_background": "light"
          }
        }
      ],
      "source": [
        "plt.pcolormesh(A)"
      ]
    },
    {
      "cell_type": "code",
      "execution_count": 23,
      "metadata": {
        "colab": {
          "base_uri": "https://localhost:8080/",
          "height": 287
        },
        "id": "Muwea4lqDffS",
        "outputId": "3c9c007d-2bf9-4bf5-f4bc-1d37104b6337"
      },
      "outputs": [
        {
          "output_type": "execute_result",
          "data": {
            "text/plain": [
              "<matplotlib.collections.QuadMesh at 0x7f9f960ef0d0>"
            ]
          },
          "metadata": {},
          "execution_count": 23
        },
        {
          "output_type": "display_data",
          "data": {
            "text/plain": [
              "<Figure size 432x288 with 1 Axes>"
            ],
            "image/png": "[encoded data removed]"
          },
          "metadata": {
            "needs_background": "light"
          }
        }
      ],
      "source": [
        "plt.pcolormesh(A.T)"
      ]
    },
    {
      "cell_type": "code",
      "execution_count": 24,
      "metadata": {
        "id": "xwKfhqGXDffZ"
      },
      "outputs": [],
      "source": [
        "A=A+A.T"
      ]
    },
    {
      "cell_type": "code",
      "execution_count": 25,
      "metadata": {
        "colab": {
          "base_uri": "https://localhost:8080/",
          "height": 287
        },
        "id": "CgerXiJzDffe",
        "outputId": "9410a6e8-b91c-41fb-ca27-65ee8f5e5036"
      },
      "outputs": [
        {
          "output_type": "execute_result",
          "data": {
            "text/plain": [
              "<matplotlib.collections.QuadMesh at 0x7f9f960c55b0>"
            ]
          },
          "metadata": {},
          "execution_count": 25
        },
        {
          "output_type": "display_data",
          "data": {
            "text/plain": [
              "<Figure size 432x288 with 1 Axes>"
            ],
            "image/png": "[encoded data removed]"
          },
          "metadata": {
            "needs_background": "light"
          }
        }
      ],
      "source": [
        "plt.pcolormesh(A)"
      ]
    },
    {
      "cell_type": "code",
      "execution_count": 26,
      "metadata": {
        "colab": {
          "base_uri": "https://localhost:8080/",
          "height": 269
        },
        "id": "8II6foPiDffi",
        "outputId": "1fd3e2e8-53bd-49cf-f45c-69503bc6895c"
      },
      "outputs": [
        {
          "output_type": "display_data",
          "data": {
            "text/plain": [
              "<Figure size 432x288 with 1 Axes>"
            ],
            "image/png": "[encoded data removed]"
          },
          "metadata": {
            "needs_background": "light"
          }
        }
      ],
      "source": [
        "# let us have a look (it seems, the structure is absent)\n",
        "plt.pcolormesh(A);"
      ]
    },
    {
      "cell_type": "code",
      "execution_count": 26,
      "metadata": {
        "id": "uQzbV5J4Dffn"
      },
      "outputs": [],
      "source": []
    },
    {
      "cell_type": "code",
      "execution_count": 27,
      "metadata": {
        "colab": {
          "base_uri": "https://localhost:8080/"
        },
        "id": "HX4ouxDVDffs",
        "outputId": "54c95a34-8a71-42d7-8649-1a800017ed99"
      },
      "outputs": [
        {
          "output_type": "execute_result",
          "data": {
            "text/plain": [
              "0.0"
            ]
          },
          "metadata": {},
          "execution_count": 27
        }
      ],
      "source": [
        "#checking the symmetry\n",
        "sum(sum(np.abs(A-A.T)))"
      ]
    },
    {
      "cell_type": "code",
      "execution_count": 28,
      "metadata": {
        "colab": {
          "base_uri": "https://localhost:8080/"
        },
        "id": "W9aYXwMRDffv",
        "outputId": "aa6fcdba-cd01-457d-b316-5e15be34f05e"
      },
      "outputs": [
        {
          "output_type": "execute_result",
          "data": {
            "text/plain": [
              "0.0"
            ]
          },
          "metadata": {},
          "execution_count": 28
        }
      ],
      "source": [
        "#cheking the main diagonal -- it should be empty\n",
        "sum(np.diag(A))"
      ]
    },
    {
      "cell_type": "markdown",
      "metadata": {
        "id": "3y6BZjtw_jCT"
      },
      "source": [
        "Follow the hints from the tutorial. First, calculate the Laplacian matrix, L=D-A, find its second smallest eigenvector, sort it, and use the found indicies and restore the model structure as the two group of  \"friends\"."
      ]
    },
    {
      "cell_type": "code",
      "execution_count": 29,
      "metadata": {
        "id": "SDSCmvdR_jCU"
      },
      "outputs": [],
      "source": [
        "D=np.diag(sum(A))"
      ]
    },
    {
      "cell_type": "code",
      "execution_count": 30,
      "metadata": {
        "colab": {
          "base_uri": "https://localhost:8080/"
        },
        "id": "zjxsS_2eDff4",
        "outputId": "3a280bc4-9aea-422b-bb95-980db009e19d"
      },
      "outputs": [
        {
          "output_type": "execute_result",
          "data": {
            "text/plain": [
              "196.0"
            ]
          },
          "metadata": {},
          "execution_count": 30
        }
      ],
      "source": [
        "min(sum(A))"
      ]
    },
    {
      "cell_type": "code",
      "execution_count": 31,
      "metadata": {
        "colab": {
          "base_uri": "https://localhost:8080/",
          "height": 269
        },
        "id": "QFv2_oBKDff7",
        "outputId": "ec9bc374-57eb-448a-a235-084657cbc5b6"
      },
      "outputs": [
        {
          "output_type": "display_data",
          "data": {
            "text/plain": [
              "<Figure size 432x288 with 1 Axes>"
            ],
            "image/png": "[encoded data removed]"
          },
          "metadata": {
            "needs_background": "light"
          }
        }
      ],
      "source": [
        "plt.pcolormesh(D);"
      ]
    },
    {
      "cell_type": "code",
      "execution_count": 32,
      "metadata": {
        "id": "hyMgj1qCDff-"
      },
      "outputs": [],
      "source": [
        "L=D-A"
      ]
    },
    {
      "cell_type": "code",
      "execution_count": 33,
      "metadata": {
        "id": "uw-vCnp9DfgA"
      },
      "outputs": [],
      "source": [
        "from scipy.sparse.linalg import eigsh #a better choice than numpy"
      ]
    },
    {
      "cell_type": "code",
      "execution_count": 34,
      "metadata": {
        "colab": {
          "base_uri": "https://localhost:8080/"
        },
        "id": "Pk8cPybPDfgB",
        "outputId": "5c179b3c-2055-4ca4-b4f8-439caea3d750"
      },
      "outputs": [
        {
          "output_type": "stream",
          "name": "stdout",
          "text": [
            "Help on function eigsh in module scipy.sparse.linalg.eigen.arpack.arpack:\n",
            "\n",
            "eigsh(A, k=6, M=None, sigma=None, which='LM', v0=None, ncv=None, maxiter=None, tol=0, return_eigenvectors=True, Minv=None, OPinv=None, mode='normal')\n",
            "    Find k eigenvalues and eigenvectors of the real symmetric square matrix\n",
            "    or complex Hermitian matrix A.\n",
            "    \n",
            "    Solves ``A * x[i] = w[i] * x[i]``, the standard eigenvalue problem for\n",
            "    w[i] eigenvalues with corresponding eigenvectors x[i].\n",
            "    \n",
            "    If M is specified, solves ``A * x[i] = w[i] * M * x[i]``, the\n",
            "    generalized eigenvalue problem for w[i] eigenvalues\n",
            "    with corresponding eigenvectors x[i].\n",
            "    \n",
            "    Note that there is no specialized routine for the case when A is a complex\n",
            "    Hermitian matrix. In this case, ``eigsh()`` will call ``eigs()`` and return the\n",
            "    real parts of the eigenvalues thus obtained.\n",
            "    \n",
            "    Parameters\n",
            "    ----------\n",
            "    A : ndarray, sparse matrix or LinearOperator\n",
            "        A square operator representing the operation ``A * x``, where ``A`` is\n",
            "        real symmetric or complex Hermitian. For buckling mode (see below)\n",
            "        ``A`` must additionally be positive-definite.\n",
            "    k : int, optional\n",
            "        The number of eigenvalues and eigenvectors desired.\n",
            "        `k` must be smaller than N. It is not possible to compute all\n",
            "        eigenvectors of a matrix.\n",
            "    \n",
            "    Returns\n",
            "    -------\n",
            "    w : array\n",
            "        Array of k eigenvalues.\n",
            "    v : array\n",
            "        An array representing the `k` eigenvectors.  The column ``v[:, i]`` is\n",
            "        the eigenvector corresponding to the eigenvalue ``w[i]``.\n",
            "    \n",
            "    Other Parameters\n",
            "    ----------------\n",
            "    M : An N x N matrix, array, sparse matrix, or linear operator representing\n",
            "        the operation ``M @ x`` for the generalized eigenvalue problem\n",
            "    \n",
            "            A @ x = w * M @ x.\n",
            "    \n",
            "        M must represent a real symmetric matrix if A is real, and must\n",
            "        represent a complex Hermitian matrix if A is complex. For best\n",
            "        results, the data type of M should be the same as that of A.\n",
            "        Additionally:\n",
            "    \n",
            "            If sigma is None, M is symmetric positive definite.\n",
            "    \n",
            "            If sigma is specified, M is symmetric positive semi-definite.\n",
            "    \n",
            "            In buckling mode, M is symmetric indefinite.\n",
            "    \n",
            "        If sigma is None, eigsh requires an operator to compute the solution\n",
            "        of the linear equation ``M @ x = b``. This is done internally via a\n",
            "        (sparse) LU decomposition for an explicit matrix M, or via an\n",
            "        iterative solver for a general linear operator.  Alternatively,\n",
            "        the user can supply the matrix or operator Minv, which gives\n",
            "        ``x = Minv @ b = M^-1 @ b``.\n",
            "    sigma : real\n",
            "        Find eigenvalues near sigma using shift-invert mode.  This requires\n",
            "        an operator to compute the solution of the linear system\n",
            "        ``[A - sigma * M] x = b``, where M is the identity matrix if\n",
            "        unspecified.  This is computed internally via a (sparse) LU\n",
            "        decomposition for explicit matrices A & M, or via an iterative\n",
            "        solver if either A or M is a general linear operator.\n",
            "        Alternatively, the user can supply the matrix or operator OPinv,\n",
            "        which gives ``x = OPinv @ b = [A - sigma * M]^-1 @ b``.\n",
            "        Note that when sigma is specified, the keyword 'which' refers to\n",
            "        the shifted eigenvalues ``w'[i]`` where:\n",
            "    \n",
            "            if mode == 'normal', ``w'[i] = 1 / (w[i] - sigma)``.\n",
            "    \n",
            "            if mode == 'cayley', ``w'[i] = (w[i] + sigma) / (w[i] - sigma)``.\n",
            "    \n",
            "            if mode == 'buckling', ``w'[i] = w[i] / (w[i] - sigma)``.\n",
            "    \n",
            "        (see further discussion in 'mode' below)\n",
            "    v0 : ndarray, optional\n",
            "        Starting vector for iteration.\n",
            "        Default: random\n",
            "    ncv : int, optional\n",
            "        The number of Lanczos vectors generated ncv must be greater than k and\n",
            "        smaller than n; it is recommended that ``ncv > 2*k``.\n",
            "        Default: ``min(n, max(2*k + 1, 20))``\n",
            "    which : str ['LM' | 'SM' | 'LA' | 'SA' | 'BE']\n",
            "        If A is a complex Hermitian matrix, 'BE' is invalid.\n",
            "        Which `k` eigenvectors and eigenvalues to find:\n",
            "    \n",
            "            'LM' : Largest (in magnitude) eigenvalues.\n",
            "    \n",
            "            'SM' : Smallest (in magnitude) eigenvalues.\n",
            "    \n",
            "            'LA' : Largest (algebraic) eigenvalues.\n",
            "    \n",
            "            'SA' : Smallest (algebraic) eigenvalues.\n",
            "    \n",
            "            'BE' : Half (k/2) from each end of the spectrum.\n",
            "    \n",
            "        When k is odd, return one more (k/2+1) from the high end.\n",
            "        When sigma != None, 'which' refers to the shifted eigenvalues ``w'[i]``\n",
            "        (see discussion in 'sigma', above).  ARPACK is generally better\n",
            "        at finding large values than small values.  If small eigenvalues are\n",
            "        desired, consider using shift-invert mode for better performance.\n",
            "    maxiter : int, optional\n",
            "        Maximum number of Arnoldi update iterations allowed.\n",
            "        Default: ``n*10``\n",
            "    tol : float\n",
            "        Relative accuracy for eigenvalues (stopping criterion).\n",
            "        The default value of 0 implies machine precision.\n",
            "    Minv : N x N matrix, array, sparse matrix, or LinearOperator\n",
            "        See notes in M, above.\n",
            "    OPinv : N x N matrix, array, sparse matrix, or LinearOperator\n",
            "        See notes in sigma, above.\n",
            "    return_eigenvectors : bool\n",
            "        Return eigenvectors (True) in addition to eigenvalues.\n",
            "        This value determines the order in which eigenvalues are sorted.\n",
            "        The sort order is also dependent on the `which` variable.\n",
            "    \n",
            "            For which = 'LM' or 'SA':\n",
            "                If `return_eigenvectors` is True, eigenvalues are sorted by\n",
            "                algebraic value.\n",
            "    \n",
            "                If `return_eigenvectors` is False, eigenvalues are sorted by\n",
            "                absolute value.\n",
            "    \n",
            "            For which = 'BE' or 'LA':\n",
            "                eigenvalues are always sorted by algebraic value.\n",
            "    \n",
            "            For which = 'SM':\n",
            "                If `return_eigenvectors` is True, eigenvalues are sorted by\n",
            "                algebraic value.\n",
            "    \n",
            "                If `return_eigenvectors` is False, eigenvalues are sorted by\n",
            "                decreasing absolute value.\n",
            "    \n",
            "    mode : string ['normal' | 'buckling' | 'cayley']\n",
            "        Specify strategy to use for shift-invert mode.  This argument applies\n",
            "        only for real-valued A and sigma != None.  For shift-invert mode,\n",
            "        ARPACK internally solves the eigenvalue problem\n",
            "        ``OP * x'[i] = w'[i] * B * x'[i]``\n",
            "        and transforms the resulting Ritz vectors x'[i] and Ritz values w'[i]\n",
            "        into the desired eigenvectors and eigenvalues of the problem\n",
            "        ``A * x[i] = w[i] * M * x[i]``.\n",
            "        The modes are as follows:\n",
            "    \n",
            "            'normal' :\n",
            "                OP = [A - sigma * M]^-1 @ M,\n",
            "                B = M,\n",
            "                w'[i] = 1 / (w[i] - sigma)\n",
            "    \n",
            "            'buckling' :\n",
            "                OP = [A - sigma * M]^-1 @ A,\n",
            "                B = A,\n",
            "                w'[i] = w[i] / (w[i] - sigma)\n",
            "    \n",
            "            'cayley' :\n",
            "                OP = [A - sigma * M]^-1 @ [A + sigma * M],\n",
            "                B = M,\n",
            "                w'[i] = (w[i] + sigma) / (w[i] - sigma)\n",
            "    \n",
            "        The choice of mode will affect which eigenvalues are selected by\n",
            "        the keyword 'which', and can also impact the stability of\n",
            "        convergence (see [2] for a discussion).\n",
            "    \n",
            "    Raises\n",
            "    ------\n",
            "    ArpackNoConvergence\n",
            "        When the requested convergence is not obtained.\n",
            "    \n",
            "        The currently converged eigenvalues and eigenvectors can be found\n",
            "        as ``eigenvalues`` and ``eigenvectors`` attributes of the exception\n",
            "        object.\n",
            "    \n",
            "    See Also\n",
            "    --------\n",
            "    eigs : eigenvalues and eigenvectors for a general (nonsymmetric) matrix A\n",
            "    svds : singular value decomposition for a matrix A\n",
            "    \n",
            "    Notes\n",
            "    -----\n",
            "    This function is a wrapper to the ARPACK [1]_ SSEUPD and DSEUPD\n",
            "    functions which use the Implicitly Restarted Lanczos Method to\n",
            "    find the eigenvalues and eigenvectors [2]_.\n",
            "    \n",
            "    References\n",
            "    ----------\n",
            "    .. [1] ARPACK Software, http://www.caam.rice.edu/software/ARPACK/\n",
            "    .. [2] R. B. Lehoucq, D. C. Sorensen, and C. Yang,  ARPACK USERS GUIDE:\n",
            "       Solution of Large Scale Eigenvalue Problems by Implicitly Restarted\n",
            "       Arnoldi Methods. SIAM, Philadelphia, PA, 1998.\n",
            "    \n",
            "    Examples\n",
            "    --------\n",
            "    >>> from scipy.sparse.linalg import eigsh\n",
            "    >>> identity = np.eye(13)\n",
            "    >>> eigenvalues, eigenvectors = eigsh(identity, k=6)\n",
            "    >>> eigenvalues\n",
            "    array([1., 1., 1., 1., 1., 1.])\n",
            "    >>> eigenvectors.shape\n",
            "    (13, 6)\n",
            "\n"
          ]
        }
      ],
      "source": [
        "import scipy\n",
        "help(scipy.sparse.linalg.eigsh)"
      ]
    },
    {
      "cell_type": "code",
      "execution_count": 35,
      "metadata": {
        "id": "ocn-nh_CDfgE"
      },
      "outputs": [],
      "source": [
        "#W,V=np.linalg.eigh(L)"
      ]
    },
    {
      "cell_type": "code",
      "execution_count": 36,
      "metadata": {
        "id": "DyyZQQtGDfgG"
      },
      "outputs": [],
      "source": [
        "W,V=eigsh(L,which='SA') #six (by default) eignvalues are sorted in desceding order (by which='SA')"
      ]
    },
    {
      "cell_type": "code",
      "execution_count": 37,
      "metadata": {
        "colab": {
          "base_uri": "https://localhost:8080/"
        },
        "id": "04dgzkZsDfgH",
        "outputId": "6f34c9aa-7ec3-47c0-f7b2-33395142865c"
      },
      "outputs": [
        {
          "output_type": "execute_result",
          "data": {
            "text/plain": [
              "(6,)"
            ]
          },
          "metadata": {},
          "execution_count": 37
        }
      ],
      "source": [
        "W.shape"
      ]
    },
    {
      "cell_type": "code",
      "execution_count": 38,
      "metadata": {
        "colab": {
          "base_uri": "https://localhost:8080/"
        },
        "id": "JEcrDRnUDfgK",
        "outputId": "b764573c-5ff1-46b9-dcea-b140c5e7024a"
      },
      "outputs": [
        {
          "output_type": "execute_result",
          "data": {
            "text/plain": [
              "array([-2.79773067e-14,  4.24145702e+01,  1.92499907e+02,  1.93729709e+02,\n",
              "        1.94182570e+02,  1.95058846e+02])"
            ]
          },
          "metadata": {},
          "execution_count": 38
        }
      ],
      "source": [
        "W"
      ]
    },
    {
      "cell_type": "code",
      "execution_count": 39,
      "metadata": {
        "colab": {
          "base_uri": "https://localhost:8080/"
        },
        "id": "braAdkF-DfgN",
        "outputId": "4c29b674-1096-48d7-87ba-25e5ef960c30"
      },
      "outputs": [
        {
          "output_type": "execute_result",
          "data": {
            "text/plain": [
              "array([ 0.03566205,  0.03472153, -0.0229204 , -0.02714644,  0.03566172,\n",
              "       -0.02420601,  0.03514499, -0.02727385, -0.02512202, -0.02603768,\n",
              "       -0.02596414,  0.03519461,  0.03469175,  0.034699  , -0.02680547,\n",
              "       -0.02651076,  0.03461243,  0.0353269 , -0.02606686,  0.03452271,\n",
              "       -0.02547164,  0.03418163,  0.03432083, -0.02596542,  0.0341772 ,\n",
              "       -0.02220786,  0.03393852,  0.03439334,  0.03436044,  0.03467703,\n",
              "       -0.02520074, -0.02767027,  0.03483876,  0.03488861,  0.03423847,\n",
              "       -0.02750483,  0.03439474, -0.02677245, -0.02594012,  0.03517002,\n",
              "        0.03375397, -0.02673489, -0.02494378, -0.03019032,  0.03436079,\n",
              "        0.03514636,  0.03341478, -0.0243838 , -0.03093395,  0.03331404,\n",
              "        0.03175925,  0.03492105,  0.03405915, -0.02560578, -0.02745818,\n",
              "        0.03386914, -0.02723585,  0.03337853, -0.02753121,  0.03533192,\n",
              "        0.03494645,  0.03393637,  0.03604161, -0.02394398, -0.0267472 ,\n",
              "        0.03360323,  0.03369925,  0.0341106 ,  0.03391553,  0.03438622,\n",
              "       -0.02873486, -0.02623614, -0.03183771, -0.02648912,  0.0329744 ,\n",
              "       -0.0267566 ,  0.03382016,  0.03319014,  0.03524665, -0.0283903 ,\n",
              "        0.03316463, -0.02751097,  0.03467819,  0.03370045,  0.03423797,\n",
              "       -0.02709867,  0.03343191,  0.031848  , -0.02573605,  0.03325573,\n",
              "        0.03369767,  0.03459658, -0.02821283, -0.0252424 ,  0.03298526,\n",
              "        0.03446777,  0.03376706, -0.03046787,  0.03339731, -0.02689103,\n",
              "        0.03393922,  0.03502454,  0.03329503, -0.02756697, -0.02784096,\n",
              "        0.03321388,  0.03405676,  0.03296777,  0.03381953, -0.0278483 ,\n",
              "       -0.02915263, -0.0266536 , -0.02946164,  0.03407791, -0.02988369,\n",
              "        0.03321838, -0.029169  , -0.02828118,  0.03268627,  0.03221878,\n",
              "        0.03331581,  0.03337375, -0.02809295, -0.02595973, -0.02745466,\n",
              "       -0.02766783,  0.03490579, -0.02452064,  0.03500296,  0.03432659,\n",
              "        0.0342929 ,  0.03260717, -0.02647264,  0.03371242, -0.02935363,\n",
              "       -0.02792143, -0.02647547,  0.0347663 ,  0.0329391 , -0.02751716,\n",
              "        0.03204578,  0.03380497,  0.03244612,  0.03234875, -0.02730532,\n",
              "        0.03197393, -0.03041874, -0.02956827,  0.03263441, -0.02513675,\n",
              "        0.03389829,  0.03257315,  0.03314622,  0.0325311 ,  0.0324969 ,\n",
              "       -0.02886487, -0.02958112,  0.03302504,  0.03367018,  0.03273222,\n",
              "        0.0324794 ,  0.0341195 , -0.02788771,  0.03236783, -0.03155652,\n",
              "       -0.0290055 , -0.02746648, -0.02997076, -0.02926829, -0.02935542,\n",
              "        0.03196397,  0.03228593, -0.02930773,  0.03360735,  0.03342384,\n",
              "       -0.02757472, -0.03294132,  0.03138424,  0.03348523,  0.03323089,\n",
              "       -0.02868416, -0.0282378 ,  0.03178513,  0.03322578, -0.03032927,\n",
              "        0.03206397, -0.03060096, -0.02927868, -0.03046246,  0.03126344,\n",
              "       -0.02810212,  0.03269941,  0.0324657 , -0.02763342,  0.0320694 ,\n",
              "       -0.03001392, -0.02884603, -0.03010246,  0.03336977,  0.03177053,\n",
              "       -0.02857185,  0.03329859, -0.02804751,  0.03366402,  0.03145521,\n",
              "        0.03505872,  0.03183563, -0.02818369, -0.03241526, -0.02762459,\n",
              "        0.03207406,  0.03180208,  0.03198513,  0.03197791, -0.02811371,\n",
              "        0.0328141 , -0.03002982, -0.03251941,  0.03136568,  0.03137115,\n",
              "        0.03076451,  0.03315423, -0.03140747, -0.02860222, -0.03245272,\n",
              "        0.03055621,  0.0309258 , -0.03081287,  0.02979255,  0.03052654,\n",
              "       -0.02870354,  0.03103378,  0.03018612, -0.03033277, -0.03190855,\n",
              "       -0.03167242, -0.03028437,  0.03334943, -0.02878029, -0.03090486,\n",
              "        0.03129628,  0.03248792, -0.03033898, -0.02890765,  0.03116421,\n",
              "       -0.03008578, -0.0282312 ,  0.03024178,  0.02886394,  0.03115934,\n",
              "       -0.029466  , -0.03117366, -0.03089377,  0.03362424,  0.03224516,\n",
              "       -0.02902578,  0.03110149,  0.0325109 , -0.03130507, -0.02744896,\n",
              "       -0.03130115, -0.0284983 , -0.02919551, -0.03148458,  0.02951798,\n",
              "        0.03039909, -0.02737004, -0.02586325, -0.02805422, -0.02909362,\n",
              "        0.02877754, -0.02832649,  0.03146171, -0.03153128,  0.03135081,\n",
              "       -0.02960009,  0.03131884, -0.03265744, -0.02997444,  0.02857436,\n",
              "       -0.03114088, -0.03010065,  0.03091189,  0.03134125, -0.03127447,\n",
              "       -0.0301445 ,  0.03148724, -0.02968806,  0.03188757, -0.03056006,\n",
              "        0.03071046, -0.02965931,  0.03162289, -0.0299111 , -0.02889536,\n",
              "       -0.02921793,  0.03064969,  0.03122274,  0.0291716 ,  0.03101691,\n",
              "        0.03096667, -0.02791881,  0.03219355,  0.0303596 ,  0.03295921,\n",
              "        0.03094559,  0.03066488,  0.03190759, -0.03178427, -0.02951753,\n",
              "       -0.03154236, -0.03016925, -0.02884824, -0.03138963, -0.03000597,\n",
              "       -0.03104523,  0.03049004, -0.02592115,  0.03010729,  0.02970634,\n",
              "        0.0292632 ,  0.03077012,  0.03045951, -0.03055569,  0.02871314,\n",
              "        0.03138006,  0.02986705,  0.03077053,  0.02859655, -0.03192545,\n",
              "        0.027747  , -0.03183832,  0.02930679,  0.031236  ,  0.03123668,\n",
              "       -0.03071199, -0.02994714,  0.03015809,  0.02895816,  0.02984176,\n",
              "        0.0284342 ,  0.03017774, -0.03258771, -0.02908819, -0.02953221,\n",
              "       -0.0309486 ,  0.02759906,  0.03111235,  0.02948482,  0.02967014,\n",
              "        0.03047695,  0.02757721,  0.03066003,  0.0303203 ,  0.02918897,\n",
              "        0.02895088, -0.03274122, -0.0329565 ,  0.02948498,  0.02814267,\n",
              "        0.03012682, -0.03391289, -0.03369729,  0.0313081 ,  0.02788618,\n",
              "       -0.02897225,  0.02926537, -0.03264633,  0.02888734, -0.03196456,\n",
              "        0.02687773,  0.03178281,  0.02846805, -0.03161969,  0.0298198 ,\n",
              "        0.02942877,  0.03099817, -0.03196719, -0.03539971, -0.0322116 ,\n",
              "       -0.0317356 , -0.03232126,  0.02908732,  0.02999237, -0.03112668,\n",
              "       -0.02957718,  0.02907676, -0.0342901 ,  0.02898988,  0.02957541,\n",
              "       -0.03227345,  0.03041755, -0.02992223, -0.03458524,  0.02912893,\n",
              "        0.02948699,  0.02901996,  0.0288565 , -0.03123381,  0.02870737,\n",
              "        0.02869561,  0.03042301,  0.02961905,  0.03145924, -0.03025823,\n",
              "       -0.03089975, -0.0324966 , -0.03316964,  0.02931074,  0.02835605,\n",
              "        0.0292993 , -0.02983352, -0.03237138,  0.0273078 , -0.03405583,\n",
              "        0.02824009, -0.03315007, -0.02853128,  0.02799676, -0.03067412,\n",
              "       -0.03294223,  0.02907083,  0.02991738,  0.02808714, -0.032373  ,\n",
              "       -0.03251164,  0.02711123,  0.02940512,  0.02808425, -0.03369129,\n",
              "        0.02866545,  0.02734797,  0.0280981 , -0.03417628, -0.03072046,\n",
              "        0.02882893,  0.0272228 ,  0.03034085,  0.02931325,  0.02634477,\n",
              "        0.02623784,  0.03143382, -0.03194647,  0.02889177, -0.03456426,\n",
              "       -0.03197834,  0.03030389, -0.03228385, -0.03229316,  0.02981041,\n",
              "        0.02616929,  0.02959085,  0.02943608,  0.02819091,  0.02972789,\n",
              "        0.02926063,  0.02825528,  0.02876835,  0.0278125 ,  0.02718567,\n",
              "        0.02738664, -0.0352417 ,  0.02701303, -0.03300822, -0.03206615,\n",
              "       -0.03515005,  0.02823613,  0.02960225,  0.02794068, -0.03421775,\n",
              "        0.02800697,  0.02715224,  0.02911701,  0.02839998, -0.03445274,\n",
              "        0.02877775,  0.02866006,  0.02676218, -0.0355257 ,  0.02656483,\n",
              "        0.02785509, -0.03454092, -0.03410488, -0.03266691,  0.02952411,\n",
              "       -0.03574314,  0.02868012,  0.02678441, -0.03379529, -0.03664241,\n",
              "       -0.0346925 ,  0.02873824,  0.02663413, -0.03230462, -0.03295169,\n",
              "       -0.03381813,  0.02617374, -0.0337153 ,  0.02616603, -0.03286842,\n",
              "        0.02717511,  0.03098538,  0.03020116,  0.02632192,  0.02730316,\n",
              "        0.02971234,  0.02840847, -0.03723008,  0.02767842,  0.0293998 ,\n",
              "        0.02576632, -0.03580448,  0.0299225 ,  0.02952413,  0.02818361,\n",
              "       -0.03618615,  0.02791976, -0.03367981,  0.0281605 , -0.03259639,\n",
              "        0.02963112,  0.02662067,  0.02835937,  0.02860882,  0.02583606,\n",
              "        0.02860783,  0.02770167,  0.02801216,  0.02642179,  0.02895129,\n",
              "       -0.03392576, -0.03474526, -0.03347858,  0.02851362,  0.03052972,\n",
              "        0.02485676,  0.02933499,  0.02794143,  0.02896158, -0.03456405,\n",
              "       -0.03200748,  0.02380174, -0.03449476,  0.02924657, -0.03361286,\n",
              "        0.02967142,  0.02956344,  0.02793133,  0.02668286,  0.02641397,\n",
              "        0.03032711,  0.02988141,  0.025481  , -0.03574516,  0.02877029,\n",
              "        0.02717044, -0.03482063,  0.02814915, -0.03694523,  0.02752418,\n",
              "       -0.03500614,  0.02716137,  0.02545584, -0.03610791, -0.03337454,\n",
              "       -0.03447412,  0.02647906,  0.02870718, -0.03578493,  0.02829866,\n",
              "        0.02814297,  0.02855122, -0.0362213 , -0.03634795, -0.03668386,\n",
              "        0.0263373 ,  0.0248774 , -0.03639892, -0.03833289, -0.03537526,\n",
              "        0.02826348,  0.02642759, -0.03489569, -0.03610799, -0.03687699,\n",
              "        0.02650506, -0.03671103, -0.03657159,  0.02882564, -0.03746612,\n",
              "       -0.03786098,  0.02412633, -0.03463643,  0.02788604,  0.02790563,\n",
              "        0.02656239,  0.02740957, -0.03671746,  0.02586338,  0.0263475 ,\n",
              "        0.02631874, -0.03780922, -0.03358575,  0.02827631,  0.02690203,\n",
              "        0.02577022, -0.03712658,  0.02790632,  0.02652947,  0.02582321,\n",
              "       -0.03519123, -0.03710132,  0.02663672, -0.03534515, -0.03708691,\n",
              "        0.02671392, -0.03670989, -0.03636112, -0.03763435,  0.02800914,\n",
              "        0.03098154, -0.03685213,  0.0253621 , -0.03556105, -0.03729967,\n",
              "        0.02530349,  0.02572533,  0.02492335,  0.02638354,  0.02608891,\n",
              "        0.0252493 ,  0.02534556,  0.02982985, -0.03630531,  0.02778085,\n",
              "        0.02637879,  0.02533929,  0.02660561,  0.02515771,  0.02723558,\n",
              "       -0.03889574,  0.02674195,  0.02824951, -0.03612733, -0.03866651,\n",
              "        0.02626007,  0.02712563, -0.03785117,  0.02623926,  0.02763614,\n",
              "       -0.03670514, -0.0363843 , -0.03569492,  0.02470236, -0.03769996,\n",
              "        0.02664788,  0.0271044 ,  0.02601011,  0.02477705,  0.02387313,\n",
              "       -0.03540719, -0.03846345, -0.03840113, -0.03769611,  0.02547036,\n",
              "       -0.03450844, -0.03611816, -0.03845444,  0.02647306, -0.03671973,\n",
              "        0.02958344,  0.02650711, -0.03912539, -0.03631634,  0.02788855,\n",
              "       -0.03788259,  0.02640479,  0.02535605,  0.02609153,  0.02766322,\n",
              "       -0.03873431,  0.0275198 , -0.03781372,  0.02717035,  0.0252629 ,\n",
              "       -0.03790278,  0.02550772,  0.02405958, -0.03644445,  0.02663798,\n",
              "       -0.03957896, -0.03727083,  0.02711766,  0.02574644,  0.02649698,\n",
              "       -0.03860424, -0.0375442 , -0.0386997 , -0.0368489 ,  0.02441869,\n",
              "        0.02585904, -0.03580608,  0.02699569,  0.02380073,  0.0236406 ,\n",
              "        0.02480172,  0.02745546,  0.02671111, -0.03699899,  0.02586878,\n",
              "       -0.03906221, -0.03620379, -0.03821003, -0.03670001,  0.02316827,\n",
              "        0.0238342 ,  0.02650345, -0.03901346, -0.03798891, -0.0379309 ,\n",
              "        0.02502323, -0.03899325,  0.02363655,  0.02565423, -0.03815152,\n",
              "        0.02638532,  0.02353399,  0.02800855,  0.0248351 ,  0.02441768,\n",
              "        0.02150019,  0.02405255,  0.02342672, -0.03889055, -0.03939557,\n",
              "        0.02483253, -0.03998769, -0.03866823,  0.02562354,  0.02570278,\n",
              "        0.02420692, -0.03901692,  0.0248533 ,  0.02599798, -0.04104453,\n",
              "       -0.0371384 , -0.03743246, -0.03744359,  0.02562903, -0.03894938,\n",
              "       -0.03798696, -0.03873706, -0.0372872 ,  0.02493908,  0.02405124,\n",
              "        0.02525053, -0.03829975,  0.02402666,  0.02517679, -0.03834999,\n",
              "       -0.0399739 ,  0.02384754,  0.02364942, -0.03981539, -0.03938499,\n",
              "       -0.03813596,  0.02712932, -0.037827  , -0.04003757,  0.02314161,\n",
              "       -0.0392979 ,  0.02441619,  0.0241721 , -0.03797904, -0.03758586,\n",
              "       -0.03721541, -0.03945254,  0.0219811 , -0.03895184, -0.0392849 ,\n",
              "       -0.04069374,  0.02606154,  0.02351353,  0.02336299,  0.02523139,\n",
              "        0.02463789,  0.02466802,  0.02124204,  0.02641322, -0.03847587,\n",
              "        0.02286349,  0.02559223, -0.03856526, -0.04088357, -0.03931171,\n",
              "       -0.03865745, -0.03879828, -0.04051947, -0.03929924,  0.02487615,\n",
              "       -0.04086186,  0.02186991, -0.03926729,  0.0241791 , -0.04042498,\n",
              "        0.02580911,  0.02343397,  0.02292523,  0.02337423, -0.03915888,\n",
              "       -0.03913333, -0.03920599,  0.02610384,  0.02515935, -0.04065986,\n",
              "       -0.0402814 ,  0.024732  , -0.04017479, -0.04089548,  0.02588004,\n",
              "        0.02332085,  0.02564901,  0.02377036,  0.02090193,  0.02312367,\n",
              "        0.02625896, -0.04073692, -0.03766044, -0.04059746,  0.02340642,\n",
              "        0.02412189, -0.03748541,  0.02180243, -0.04014088,  0.02610228,\n",
              "        0.02224519, -0.0408045 , -0.03914701, -0.04081158,  0.02514031,\n",
              "       -0.04101976,  0.02350193, -0.03939582, -0.04022907, -0.03996882,\n",
              "       -0.03938984,  0.02189619,  0.02319619,  0.0239139 , -0.03936605,\n",
              "        0.02266782,  0.02472303,  0.02055395,  0.02285864, -0.04135215,\n",
              "        0.02284223, -0.03927028,  0.01997809, -0.03967911,  0.02008274,\n",
              "       -0.04123978,  0.02188845, -0.04066189,  0.02448325,  0.02151969,\n",
              "        0.02131463, -0.04120181,  0.02248851,  0.0246169 , -0.04037032,\n",
              "        0.02042382,  0.02121086,  0.0255175 , -0.04081251,  0.02440783,\n",
              "       -0.04163677, -0.0419555 , -0.0409123 ,  0.02149281, -0.04050506,\n",
              "        0.0251208 ,  0.0208661 , -0.03944897, -0.04026187, -0.0403786 ,\n",
              "       -0.04190392, -0.0405777 ,  0.02383086, -0.04085125, -0.04277918,\n",
              "       -0.04053114, -0.04028929,  0.02284344, -0.04191961,  0.02688717,\n",
              "        0.02297761,  0.02332114,  0.02257368,  0.02295412,  0.02148586,\n",
              "       -0.04147785, -0.04152986, -0.04046605,  0.02270145,  0.02314783,\n",
              "        0.02314253, -0.04191721, -0.04196867, -0.04203662,  0.02709787,\n",
              "       -0.03980528, -0.04146263,  0.02050365,  0.0210176 , -0.04258214,\n",
              "        0.02318404, -0.04152167, -0.04047949, -0.04203578,  0.02233644,\n",
              "        0.02331407,  0.02132401, -0.04100453,  0.02074941, -0.04136368,\n",
              "        0.02049882,  0.02198285, -0.04200125, -0.0414793 , -0.04076381,\n",
              "        0.02088261,  0.02427374, -0.04278563,  0.02429511,  0.0248807 ,\n",
              "        0.02251639, -0.04253823,  0.02373677, -0.04283584,  0.02221323,\n",
              "       -0.04261974, -0.04149777,  0.02293106, -0.04278755, -0.04125484,\n",
              "        0.02238406,  0.01995618, -0.04316702,  0.02163579, -0.04162786,\n",
              "       -0.04222379, -0.04152888, -0.04176385, -0.04138072, -0.04224859,\n",
              "        0.02154377, -0.04203935, -0.04171173, -0.04314879, -0.04219769,\n",
              "       -0.04287952,  0.02089697, -0.04213292, -0.0417969 , -0.04156708,\n",
              "        0.02028976, -0.04258539, -0.04178129, -0.04333288, -0.04227285,\n",
              "        0.02074412, -0.04284213,  0.02139544, -0.04278306,  0.0222144 ,\n",
              "        0.02348962, -0.04267412,  0.02174468,  0.02268561, -0.04295182,\n",
              "       -0.0433999 , -0.0425258 , -0.04186291, -0.04276648,  0.02163905,\n",
              "       -0.04168682,  0.02323094, -0.04271604, -0.04232147,  0.02106217,\n",
              "        0.02134574, -0.04362891, -0.04232771, -0.04280011, -0.04366251,\n",
              "       -0.04263431,  0.02092119,  0.02014756,  0.02220669,  0.02004724])"
            ]
          },
          "metadata": {},
          "execution_count": 39
        }
      ],
      "source": [
        "V[:,1]"
      ]
    },
    {
      "cell_type": "code",
      "execution_count": 40,
      "metadata": {
        "colab": {
          "base_uri": "https://localhost:8080/"
        },
        "id": "pARoVDRKDfgQ",
        "outputId": "ff49ba6b-3b14-4070-9319-d4f91e05ea04"
      },
      "outputs": [
        {
          "output_type": "execute_result",
          "data": {
            "text/plain": [
              "(-2.7977306656783855e-14, 195.05884647898588)"
            ]
          },
          "metadata": {},
          "execution_count": 40
        }
      ],
      "source": [
        "min(W),max(W)"
      ]
    },
    {
      "cell_type": "code",
      "execution_count": 41,
      "metadata": {
        "colab": {
          "base_uri": "https://localhost:8080/"
        },
        "id": "MT4rQAFRDfgT",
        "outputId": "4eec5faa-236e-489d-ae91-3dd58467e87b"
      },
      "outputs": [
        {
          "output_type": "execute_result",
          "data": {
            "text/plain": [
              "array([-2.79773067e-14,  4.24145702e+01,  1.92499907e+02,  1.93729709e+02,\n",
              "        1.94182570e+02,  1.95058846e+02])"
            ]
          },
          "metadata": {},
          "execution_count": 41
        }
      ],
      "source": [
        "W"
      ]
    },
    {
      "cell_type": "code",
      "execution_count": 42,
      "metadata": {
        "colab": {
          "base_uri": "https://localhost:8080/"
        },
        "id": "k_ZuCNaIDfgV",
        "outputId": "0e7f6036-57fb-47fd-b138-6fe3fd8b5cbe"
      },
      "outputs": [
        {
          "output_type": "execute_result",
          "data": {
            "text/plain": [
              "array([-0.03162278, -0.03162278, -0.03162278, -0.03162278, -0.03162278,\n",
              "       -0.03162278, -0.03162278, -0.03162278, -0.03162278, -0.03162278,\n",
              "       -0.03162278, -0.03162278, -0.03162278, -0.03162278, -0.03162278,\n",
              "       -0.03162278, -0.03162278, -0.03162278, -0.03162278, -0.03162278,\n",
              "       -0.03162278, -0.03162278, -0.03162278, -0.03162278, -0.03162278,\n",
              "       -0.03162278, -0.03162278, -0.03162278, -0.03162278, -0.03162278,\n",
              "       -0.03162278, -0.03162278, -0.03162278, -0.03162278, -0.03162278,\n",
              "       -0.03162278, -0.03162278, -0.03162278, -0.03162278, -0.03162278,\n",
              "       -0.03162278, -0.03162278, -0.03162278, -0.03162278, -0.03162278,\n",
              "       -0.03162278, -0.03162278, -0.03162278, -0.03162278, -0.03162278,\n",
              "       -0.03162278, -0.03162278, -0.03162278, -0.03162278, -0.03162278,\n",
              "       -0.03162278, -0.03162278, -0.03162278, -0.03162278, -0.03162278,\n",
              "       -0.03162278, -0.03162278, -0.03162278, -0.03162278, -0.03162278,\n",
              "       -0.03162278, -0.03162278, -0.03162278, -0.03162278, -0.03162278,\n",
              "       -0.03162278, -0.03162278, -0.03162278, -0.03162278, -0.03162278,\n",
              "       -0.03162278, -0.03162278, -0.03162278, -0.03162278, -0.03162278,\n",
              "       -0.03162278, -0.03162278, -0.03162278, -0.03162278, -0.03162278,\n",
              "       -0.03162278, -0.03162278, -0.03162278, -0.03162278, -0.03162278,\n",
              "       -0.03162278, -0.03162278, -0.03162278, -0.03162278, -0.03162278,\n",
              "       -0.03162278, -0.03162278, -0.03162278, -0.03162278, -0.03162278,\n",
              "       -0.03162278, -0.03162278, -0.03162278, -0.03162278, -0.03162278,\n",
              "       -0.03162278, -0.03162278, -0.03162278, -0.03162278, -0.03162278,\n",
              "       -0.03162278, -0.03162278, -0.03162278, -0.03162278, -0.03162278,\n",
              "       -0.03162278, -0.03162278, -0.03162278, -0.03162278, -0.03162278,\n",
              "       -0.03162278, -0.03162278, -0.03162278, -0.03162278, -0.03162278,\n",
              "       -0.03162278, -0.03162278, -0.03162278, -0.03162278, -0.03162278,\n",
              "       -0.03162278, -0.03162278, -0.03162278, -0.03162278, -0.03162278,\n",
              "       -0.03162278, -0.03162278, -0.03162278, -0.03162278, -0.03162278,\n",
              "       -0.03162278, -0.03162278, -0.03162278, -0.03162278, -0.03162278,\n",
              "       -0.03162278, -0.03162278, -0.03162278, -0.03162278, -0.03162278,\n",
              "       -0.03162278, -0.03162278, -0.03162278, -0.03162278, -0.03162278,\n",
              "       -0.03162278, -0.03162278, -0.03162278, -0.03162278, -0.03162278,\n",
              "       -0.03162278, -0.03162278, -0.03162278, -0.03162278, -0.03162278,\n",
              "       -0.03162278, -0.03162278, -0.03162278, -0.03162278, -0.03162278,\n",
              "       -0.03162278, -0.03162278, -0.03162278, -0.03162278, -0.03162278,\n",
              "       -0.03162278, -0.03162278, -0.03162278, -0.03162278, -0.03162278,\n",
              "       -0.03162278, -0.03162278, -0.03162278, -0.03162278, -0.03162278,\n",
              "       -0.03162278, -0.03162278, -0.03162278, -0.03162278, -0.03162278,\n",
              "       -0.03162278, -0.03162278, -0.03162278, -0.03162278, -0.03162278,\n",
              "       -0.03162278, -0.03162278, -0.03162278, -0.03162278, -0.03162278,\n",
              "       -0.03162278, -0.03162278, -0.03162278, -0.03162278, -0.03162278,\n",
              "       -0.03162278, -0.03162278, -0.03162278, -0.03162278, -0.03162278,\n",
              "       -0.03162278, -0.03162278, -0.03162278, -0.03162278, -0.03162278,\n",
              "       -0.03162278, -0.03162278, -0.03162278, -0.03162278, -0.03162278,\n",
              "       -0.03162278, -0.03162278, -0.03162278, -0.03162278, -0.03162278,\n",
              "       -0.03162278, -0.03162278, -0.03162278, -0.03162278, -0.03162278,\n",
              "       -0.03162278, -0.03162278, -0.03162278, -0.03162278, -0.03162278,\n",
              "       -0.03162278, -0.03162278, -0.03162278, -0.03162278, -0.03162278,\n",
              "       -0.03162278, -0.03162278, -0.03162278, -0.03162278, -0.03162278,\n",
              "       -0.03162278, -0.03162278, -0.03162278, -0.03162278, -0.03162278,\n",
              "       -0.03162278, -0.03162278, -0.03162278, -0.03162278, -0.03162278,\n",
              "       -0.03162278, -0.03162278, -0.03162278, -0.03162278, -0.03162278,\n",
              "       -0.03162278, -0.03162278, -0.03162278, -0.03162278, -0.03162278,\n",
              "       -0.03162278, -0.03162278, -0.03162278, -0.03162278, -0.03162278,\n",
              "       -0.03162278, -0.03162278, -0.03162278, -0.03162278, -0.03162278,\n",
              "       -0.03162278, -0.03162278, -0.03162278, -0.03162278, -0.03162278,\n",
              "       -0.03162278, -0.03162278, -0.03162278, -0.03162278, -0.03162278,\n",
              "       -0.03162278, -0.03162278, -0.03162278, -0.03162278, -0.03162278,\n",
              "       -0.03162278, -0.03162278, -0.03162278, -0.03162278, -0.03162278,\n",
              "       -0.03162278, -0.03162278, -0.03162278, -0.03162278, -0.03162278,\n",
              "       -0.03162278, -0.03162278, -0.03162278, -0.03162278, -0.03162278,\n",
              "       -0.03162278, -0.03162278, -0.03162278, -0.03162278, -0.03162278,\n",
              "       -0.03162278, -0.03162278, -0.03162278, -0.03162278, -0.03162278,\n",
              "       -0.03162278, -0.03162278, -0.03162278, -0.03162278, -0.03162278,\n",
              "       -0.03162278, -0.03162278, -0.03162278, -0.03162278, -0.03162278,\n",
              "       -0.03162278, -0.03162278, -0.03162278, -0.03162278, -0.03162278,\n",
              "       -0.03162278, -0.03162278, -0.03162278, -0.03162278, -0.03162278,\n",
              "       -0.03162278, -0.03162278, -0.03162278, -0.03162278, -0.03162278,\n",
              "       -0.03162278, -0.03162278, -0.03162278, -0.03162278, -0.03162278,\n",
              "       -0.03162278, -0.03162278, -0.03162278, -0.03162278, -0.03162278,\n",
              "       -0.03162278, -0.03162278, -0.03162278, -0.03162278, -0.03162278,\n",
              "       -0.03162278, -0.03162278, -0.03162278, -0.03162278, -0.03162278,\n",
              "       -0.03162278, -0.03162278, -0.03162278, -0.03162278, -0.03162278,\n",
              "       -0.03162278, -0.03162278, -0.03162278, -0.03162278, -0.03162278,\n",
              "       -0.03162278, -0.03162278, -0.03162278, -0.03162278, -0.03162278,\n",
              "       -0.03162278, -0.03162278, -0.03162278, -0.03162278, -0.03162278,\n",
              "       -0.03162278, -0.03162278, -0.03162278, -0.03162278, -0.03162278,\n",
              "       -0.03162278, -0.03162278, -0.03162278, -0.03162278, -0.03162278,\n",
              "       -0.03162278, -0.03162278, -0.03162278, -0.03162278, -0.03162278,\n",
              "       -0.03162278, -0.03162278, -0.03162278, -0.03162278, -0.03162278,\n",
              "       -0.03162278, -0.03162278, -0.03162278, -0.03162278, -0.03162278,\n",
              "       -0.03162278, -0.03162278, -0.03162278, -0.03162278, -0.03162278,\n",
              "       -0.03162278, -0.03162278, -0.03162278, -0.03162278, -0.03162278,\n",
              "       -0.03162278, -0.03162278, -0.03162278, -0.03162278, -0.03162278,\n",
              "       -0.03162278, -0.03162278, -0.03162278, -0.03162278, -0.03162278,\n",
              "       -0.03162278, -0.03162278, -0.03162278, -0.03162278, -0.03162278,\n",
              "       -0.03162278, -0.03162278, -0.03162278, -0.03162278, -0.03162278,\n",
              "       -0.03162278, -0.03162278, -0.03162278, -0.03162278, -0.03162278,\n",
              "       -0.03162278, -0.03162278, -0.03162278, -0.03162278, -0.03162278,\n",
              "       -0.03162278, -0.03162278, -0.03162278, -0.03162278, -0.03162278,\n",
              "       -0.03162278, -0.03162278, -0.03162278, -0.03162278, -0.03162278,\n",
              "       -0.03162278, -0.03162278, -0.03162278, -0.03162278, -0.03162278,\n",
              "       -0.03162278, -0.03162278, -0.03162278, -0.03162278, -0.03162278,\n",
              "       -0.03162278, -0.03162278, -0.03162278, -0.03162278, -0.03162278,\n",
              "       -0.03162278, -0.03162278, -0.03162278, -0.03162278, -0.03162278,\n",
              "       -0.03162278, -0.03162278, -0.03162278, -0.03162278, -0.03162278,\n",
              "       -0.03162278, -0.03162278, -0.03162278, -0.03162278, -0.03162278,\n",
              "       -0.03162278, -0.03162278, -0.03162278, -0.03162278, -0.03162278,\n",
              "       -0.03162278, -0.03162278, -0.03162278, -0.03162278, -0.03162278,\n",
              "       -0.03162278, -0.03162278, -0.03162278, -0.03162278, -0.03162278,\n",
              "       -0.03162278, -0.03162278, -0.03162278, -0.03162278, -0.03162278,\n",
              "       -0.03162278, -0.03162278, -0.03162278, -0.03162278, -0.03162278,\n",
              "       -0.03162278, -0.03162278, -0.03162278, -0.03162278, -0.03162278,\n",
              "       -0.03162278, -0.03162278, -0.03162278, -0.03162278, -0.03162278,\n",
              "       -0.03162278, -0.03162278, -0.03162278, -0.03162278, -0.03162278,\n",
              "       -0.03162278, -0.03162278, -0.03162278, -0.03162278, -0.03162278,\n",
              "       -0.03162278, -0.03162278, -0.03162278, -0.03162278, -0.03162278,\n",
              "       -0.03162278, -0.03162278, -0.03162278, -0.03162278, -0.03162278,\n",
              "       -0.03162278, -0.03162278, -0.03162278, -0.03162278, -0.03162278,\n",
              "       -0.03162278, -0.03162278, -0.03162278, -0.03162278, -0.03162278,\n",
              "       -0.03162278, -0.03162278, -0.03162278, -0.03162278, -0.03162278,\n",
              "       -0.03162278, -0.03162278, -0.03162278, -0.03162278, -0.03162278,\n",
              "       -0.03162278, -0.03162278, -0.03162278, -0.03162278, -0.03162278,\n",
              "       -0.03162278, -0.03162278, -0.03162278, -0.03162278, -0.03162278,\n",
              "       -0.03162278, -0.03162278, -0.03162278, -0.03162278, -0.03162278,\n",
              "       -0.03162278, -0.03162278, -0.03162278, -0.03162278, -0.03162278,\n",
              "       -0.03162278, -0.03162278, -0.03162278, -0.03162278, -0.03162278,\n",
              "       -0.03162278, -0.03162278, -0.03162278, -0.03162278, -0.03162278,\n",
              "       -0.03162278, -0.03162278, -0.03162278, -0.03162278, -0.03162278,\n",
              "       -0.03162278, -0.03162278, -0.03162278, -0.03162278, -0.03162278,\n",
              "       -0.03162278, -0.03162278, -0.03162278, -0.03162278, -0.03162278,\n",
              "       -0.03162278, -0.03162278, -0.03162278, -0.03162278, -0.03162278,\n",
              "       -0.03162278, -0.03162278, -0.03162278, -0.03162278, -0.03162278,\n",
              "       -0.03162278, -0.03162278, -0.03162278, -0.03162278, -0.03162278,\n",
              "       -0.03162278, -0.03162278, -0.03162278, -0.03162278, -0.03162278,\n",
              "       -0.03162278, -0.03162278, -0.03162278, -0.03162278, -0.03162278,\n",
              "       -0.03162278, -0.03162278, -0.03162278, -0.03162278, -0.03162278,\n",
              "       -0.03162278, -0.03162278, -0.03162278, -0.03162278, -0.03162278,\n",
              "       -0.03162278, -0.03162278, -0.03162278, -0.03162278, -0.03162278,\n",
              "       -0.03162278, -0.03162278, -0.03162278, -0.03162278, -0.03162278,\n",
              "       -0.03162278, -0.03162278, -0.03162278, -0.03162278, -0.03162278,\n",
              "       -0.03162278, -0.03162278, -0.03162278, -0.03162278, -0.03162278,\n",
              "       -0.03162278, -0.03162278, -0.03162278, -0.03162278, -0.03162278,\n",
              "       -0.03162278, -0.03162278, -0.03162278, -0.03162278, -0.03162278,\n",
              "       -0.03162278, -0.03162278, -0.03162278, -0.03162278, -0.03162278,\n",
              "       -0.03162278, -0.03162278, -0.03162278, -0.03162278, -0.03162278,\n",
              "       -0.03162278, -0.03162278, -0.03162278, -0.03162278, -0.03162278,\n",
              "       -0.03162278, -0.03162278, -0.03162278, -0.03162278, -0.03162278,\n",
              "       -0.03162278, -0.03162278, -0.03162278, -0.03162278, -0.03162278,\n",
              "       -0.03162278, -0.03162278, -0.03162278, -0.03162278, -0.03162278,\n",
              "       -0.03162278, -0.03162278, -0.03162278, -0.03162278, -0.03162278,\n",
              "       -0.03162278, -0.03162278, -0.03162278, -0.03162278, -0.03162278,\n",
              "       -0.03162278, -0.03162278, -0.03162278, -0.03162278, -0.03162278,\n",
              "       -0.03162278, -0.03162278, -0.03162278, -0.03162278, -0.03162278,\n",
              "       -0.03162278, -0.03162278, -0.03162278, -0.03162278, -0.03162278,\n",
              "       -0.03162278, -0.03162278, -0.03162278, -0.03162278, -0.03162278,\n",
              "       -0.03162278, -0.03162278, -0.03162278, -0.03162278, -0.03162278,\n",
              "       -0.03162278, -0.03162278, -0.03162278, -0.03162278, -0.03162278,\n",
              "       -0.03162278, -0.03162278, -0.03162278, -0.03162278, -0.03162278,\n",
              "       -0.03162278, -0.03162278, -0.03162278, -0.03162278, -0.03162278,\n",
              "       -0.03162278, -0.03162278, -0.03162278, -0.03162278, -0.03162278,\n",
              "       -0.03162278, -0.03162278, -0.03162278, -0.03162278, -0.03162278,\n",
              "       -0.03162278, -0.03162278, -0.03162278, -0.03162278, -0.03162278,\n",
              "       -0.03162278, -0.03162278, -0.03162278, -0.03162278, -0.03162278,\n",
              "       -0.03162278, -0.03162278, -0.03162278, -0.03162278, -0.03162278,\n",
              "       -0.03162278, -0.03162278, -0.03162278, -0.03162278, -0.03162278,\n",
              "       -0.03162278, -0.03162278, -0.03162278, -0.03162278, -0.03162278,\n",
              "       -0.03162278, -0.03162278, -0.03162278, -0.03162278, -0.03162278,\n",
              "       -0.03162278, -0.03162278, -0.03162278, -0.03162278, -0.03162278,\n",
              "       -0.03162278, -0.03162278, -0.03162278, -0.03162278, -0.03162278,\n",
              "       -0.03162278, -0.03162278, -0.03162278, -0.03162278, -0.03162278,\n",
              "       -0.03162278, -0.03162278, -0.03162278, -0.03162278, -0.03162278,\n",
              "       -0.03162278, -0.03162278, -0.03162278, -0.03162278, -0.03162278,\n",
              "       -0.03162278, -0.03162278, -0.03162278, -0.03162278, -0.03162278,\n",
              "       -0.03162278, -0.03162278, -0.03162278, -0.03162278, -0.03162278,\n",
              "       -0.03162278, -0.03162278, -0.03162278, -0.03162278, -0.03162278,\n",
              "       -0.03162278, -0.03162278, -0.03162278, -0.03162278, -0.03162278,\n",
              "       -0.03162278, -0.03162278, -0.03162278, -0.03162278, -0.03162278,\n",
              "       -0.03162278, -0.03162278, -0.03162278, -0.03162278, -0.03162278,\n",
              "       -0.03162278, -0.03162278, -0.03162278, -0.03162278, -0.03162278,\n",
              "       -0.03162278, -0.03162278, -0.03162278, -0.03162278, -0.03162278,\n",
              "       -0.03162278, -0.03162278, -0.03162278, -0.03162278, -0.03162278,\n",
              "       -0.03162278, -0.03162278, -0.03162278, -0.03162278, -0.03162278,\n",
              "       -0.03162278, -0.03162278, -0.03162278, -0.03162278, -0.03162278,\n",
              "       -0.03162278, -0.03162278, -0.03162278, -0.03162278, -0.03162278,\n",
              "       -0.03162278, -0.03162278, -0.03162278, -0.03162278, -0.03162278,\n",
              "       -0.03162278, -0.03162278, -0.03162278, -0.03162278, -0.03162278,\n",
              "       -0.03162278, -0.03162278, -0.03162278, -0.03162278, -0.03162278,\n",
              "       -0.03162278, -0.03162278, -0.03162278, -0.03162278, -0.03162278,\n",
              "       -0.03162278, -0.03162278, -0.03162278, -0.03162278, -0.03162278,\n",
              "       -0.03162278, -0.03162278, -0.03162278, -0.03162278, -0.03162278,\n",
              "       -0.03162278, -0.03162278, -0.03162278, -0.03162278, -0.03162278,\n",
              "       -0.03162278, -0.03162278, -0.03162278, -0.03162278, -0.03162278,\n",
              "       -0.03162278, -0.03162278, -0.03162278, -0.03162278, -0.03162278,\n",
              "       -0.03162278, -0.03162278, -0.03162278, -0.03162278, -0.03162278,\n",
              "       -0.03162278, -0.03162278, -0.03162278, -0.03162278, -0.03162278,\n",
              "       -0.03162278, -0.03162278, -0.03162278, -0.03162278, -0.03162278,\n",
              "       -0.03162278, -0.03162278, -0.03162278, -0.03162278, -0.03162278,\n",
              "       -0.03162278, -0.03162278, -0.03162278, -0.03162278, -0.03162278,\n",
              "       -0.03162278, -0.03162278, -0.03162278, -0.03162278, -0.03162278,\n",
              "       -0.03162278, -0.03162278, -0.03162278, -0.03162278, -0.03162278,\n",
              "       -0.03162278, -0.03162278, -0.03162278, -0.03162278, -0.03162278,\n",
              "       -0.03162278, -0.03162278, -0.03162278, -0.03162278, -0.03162278,\n",
              "       -0.03162278, -0.03162278, -0.03162278, -0.03162278, -0.03162278,\n",
              "       -0.03162278, -0.03162278, -0.03162278, -0.03162278, -0.03162278,\n",
              "       -0.03162278, -0.03162278, -0.03162278, -0.03162278, -0.03162278,\n",
              "       -0.03162278, -0.03162278, -0.03162278, -0.03162278, -0.03162278,\n",
              "       -0.03162278, -0.03162278, -0.03162278, -0.03162278, -0.03162278,\n",
              "       -0.03162278, -0.03162278, -0.03162278, -0.03162278, -0.03162278,\n",
              "       -0.03162278, -0.03162278, -0.03162278, -0.03162278, -0.03162278])"
            ]
          },
          "metadata": {},
          "execution_count": 42
        }
      ],
      "source": [
        "V[:,0] #the first samllest eigenvalue corresponds to the first eigenvector – should be a constant vector k*e, where e=(1,1,...,1), where k=sqrt(1/n)"
      ]
    },
    {
      "cell_type": "code",
      "execution_count": 43,
      "metadata": {
        "id": "oPr9QFryDfgZ"
      },
      "outputs": [],
      "source": [
        "from math import sqrt"
      ]
    },
    {
      "cell_type": "code",
      "execution_count": 44,
      "metadata": {
        "colab": {
          "base_uri": "https://localhost:8080/"
        },
        "id": "sl4By_ANDfgc",
        "outputId": "64e3fe30-13ca-4d0c-cdda-8f4dbaf541cf"
      },
      "outputs": [
        {
          "output_type": "execute_result",
          "data": {
            "text/plain": [
              "0.03162277660168379"
            ]
          },
          "metadata": {},
          "execution_count": 44
        }
      ],
      "source": [
        "sqrt(1/1000)"
      ]
    },
    {
      "cell_type": "code",
      "execution_count": 45,
      "metadata": {
        "id": "Z3_WFcziDfgg"
      },
      "outputs": [],
      "source": [
        "X=V[:,1] #the second smallest eigenvalue corresponds to the second eigenvector\n",
        "Y=V[:,2]"
      ]
    },
    {
      "cell_type": "code",
      "execution_count": 46,
      "metadata": {
        "id": "Tpm8oTVhDfgi"
      },
      "outputs": [],
      "source": [
        "Ids1=np.argsort(X)\n",
        "Ids2=np.argsort(Y)"
      ]
    },
    {
      "cell_type": "code",
      "execution_count": 47,
      "metadata": {
        "colab": {
          "base_uri": "https://localhost:8080/",
          "height": 287
        },
        "id": "NKNq0c85Dfgk",
        "outputId": "e179dfce-46cc-4d6a-fdda-4aeaec2c6247"
      },
      "outputs": [
        {
          "output_type": "execute_result",
          "data": {
            "text/plain": [
              "[<matplotlib.lines.Line2D at 0x7f9f9035c0a0>]"
            ]
          },
          "metadata": {},
          "execution_count": 47
        },
        {
          "output_type": "display_data",
          "data": {
            "text/plain": [
              "<Figure size 432x288 with 1 Axes>"
            ],
            "image/png": "[encoded data removed]"
          },
          "metadata": {
            "needs_background": "light"
          }
        }
      ],
      "source": [
        "plt.plot(X,\"o\") #original X"
      ]
    },
    {
      "cell_type": "code",
      "execution_count": 48,
      "metadata": {
        "colab": {
          "base_uri": "https://localhost:8080/",
          "height": 287
        },
        "id": "HGGFQ5snDfgn",
        "outputId": "24c38557-f28a-4600-85e9-f8abc1e38290"
      },
      "outputs": [
        {
          "output_type": "execute_result",
          "data": {
            "text/plain": [
              "[<matplotlib.lines.Line2D at 0x7f9f8bae2670>]"
            ]
          },
          "metadata": {},
          "execution_count": 48
        },
        {
          "output_type": "display_data",
          "data": {
            "text/plain": [
              "<Figure size 432x288 with 1 Axes>"
            ],
            "image/png": "[encoded data removed]"
          },
          "metadata": {
            "needs_background": "light"
          }
        }
      ],
      "source": [
        "plt.plot(X[Ids1])"
      ]
    },
    {
      "cell_type": "code",
      "execution_count": 49,
      "metadata": {
        "colab": {
          "base_uri": "https://localhost:8080/",
          "height": 283
        },
        "id": "n951UfaiDfgq",
        "outputId": "11275076-0ec7-45a4-f8cc-a77b7b2465d1"
      },
      "outputs": [
        {
          "output_type": "execute_result",
          "data": {
            "text/plain": [
              "[<matplotlib.lines.Line2D at 0x7f9f8babc910>]"
            ]
          },
          "metadata": {},
          "execution_count": 49
        },
        {
          "output_type": "display_data",
          "data": {
            "text/plain": [
              "<Figure size 432x288 with 1 Axes>"
            ],
            "image/png": "[encoded data removed]"
          },
          "metadata": {
            "needs_background": "light"
          }
        }
      ],
      "source": [
        "plt.plot(X[Ids1],Y[Ids2],\"*\") #sorted X"
      ]
    },
    {
      "cell_type": "code",
      "execution_count": 50,
      "metadata": {
        "colab": {
          "base_uri": "https://localhost:8080/"
        },
        "id": "l28KcoTDDfgs",
        "outputId": "8b0bb7e2-2f5a-452c-90bf-df864baea1b3"
      },
      "outputs": [
        {
          "output_type": "execute_result",
          "data": {
            "text/plain": [
              "-2.575717417130363e-13"
            ]
          },
          "metadata": {},
          "execution_count": 50
        }
      ],
      "source": [
        "sum(np.dot(L,X)) #the result is non-zero"
      ]
    },
    {
      "cell_type": "code",
      "execution_count": 51,
      "metadata": {
        "colab": {
          "base_uri": "https://localhost:8080/"
        },
        "id": "oSjJ96h0Dfgx",
        "outputId": "8d88b93e-831a-4c17-df7f-d3c5f55cd951"
      },
      "outputs": [
        {
          "output_type": "execute_result",
          "data": {
            "text/plain": [
              "5.212275056010185e-12"
            ]
          },
          "metadata": {},
          "execution_count": 51
        }
      ],
      "source": [
        "sum(np.dot(L,V[:,0])) #due to numerical instability the result is non-zero for the first vector too"
      ]
    },
    {
      "cell_type": "code",
      "execution_count": 52,
      "metadata": {
        "colab": {
          "base_uri": "https://localhost:8080/",
          "height": 294
        },
        "id": "2MMOZ4kKDfg0",
        "outputId": "d4432c80-df89-4923-b1c6-15937a2901aa"
      },
      "outputs": [
        {
          "output_type": "execute_result",
          "data": {
            "text/plain": [
              "[<matplotlib.lines.Line2D at 0x7f9f8bb1ddf0>]"
            ]
          },
          "metadata": {},
          "execution_count": 52
        },
        {
          "output_type": "display_data",
          "data": {
            "text/plain": [
              "<Figure size 432x288 with 1 Axes>"
            ],
            "image/png": "[encoded data removed]"
          },
          "metadata": {
            "needs_background": "light"
          }
        }
      ],
      "source": [
        "plt.plot(V[:,0]) # but it does not suite our purpose"
      ]
    },
    {
      "cell_type": "code",
      "execution_count": 53,
      "metadata": {
        "id": "QVFP3wWsDfg3"
      },
      "outputs": [],
      "source": [
        "B=A[Ids1,:]#let us sort our matrix according to the new order of the second vector components; first, by rows"
      ]
    },
    {
      "cell_type": "code",
      "execution_count": 54,
      "metadata": {
        "colab": {
          "base_uri": "https://localhost:8080/",
          "height": 287
        },
        "id": "44VXPDkzDfg5",
        "outputId": "0e89d430-e45a-413c-f569-c3510596a277"
      },
      "outputs": [
        {
          "output_type": "execute_result",
          "data": {
            "text/plain": [
              "<matplotlib.collections.QuadMesh at 0x7f9f960a3490>"
            ]
          },
          "metadata": {},
          "execution_count": 54
        },
        {
          "output_type": "display_data",
          "data": {
            "text/plain": [
              "<Figure size 432x288 with 1 Axes>"
            ],
            "image/png": "[encoded data removed]"
          },
          "metadata": {
            "needs_background": "light"
          }
        }
      ],
      "source": [
        "plt.pcolormesh(B)"
      ]
    },
    {
      "cell_type": "code",
      "execution_count": 55,
      "metadata": {
        "colab": {
          "base_uri": "https://localhost:8080/",
          "height": 287
        },
        "id": "HkL0TP6vDfg7",
        "outputId": "8f4297c8-edbd-435d-c22d-4f51783b9543"
      },
      "outputs": [
        {
          "output_type": "execute_result",
          "data": {
            "text/plain": [
              "<matplotlib.collections.QuadMesh at 0x7f9f8ba212b0>"
            ]
          },
          "metadata": {},
          "execution_count": 55
        },
        {
          "output_type": "display_data",
          "data": {
            "text/plain": [
              "<Figure size 432x288 with 1 Axes>"
            ],
            "image/png": "[encoded data removed]"
          },
          "metadata": {
            "needs_background": "light"
          }
        }
      ],
      "source": [
        "plt.pcolormesh(B[:,Ids1]) #second, by columns; we identified our communities"
      ]
    },
    {
      "cell_type": "code",
      "execution_count": 56,
      "metadata": {
        "id": "5q1I9f53DfhA"
      },
      "outputs": [],
      "source": [
        "e=np.ones(1000) #just for curiosity, let us check the constant vector"
      ]
    },
    {
      "cell_type": "code",
      "execution_count": 57,
      "metadata": {
        "colab": {
          "base_uri": "https://localhost:8080/"
        },
        "id": "ShwBxByeDfhE",
        "outputId": "50976b31-3632-4f4b-a223-eb3cc186b8a9"
      },
      "outputs": [
        {
          "output_type": "execute_result",
          "data": {
            "text/plain": [
              "array([1., 1., 1., 1., 1., 1., 1., 1., 1., 1., 1., 1., 1., 1., 1., 1., 1.,\n",
              "       1., 1., 1., 1., 1., 1., 1., 1., 1., 1., 1., 1., 1., 1., 1., 1., 1.,\n",
              "       1., 1., 1., 1., 1., 1., 1., 1., 1., 1., 1., 1., 1., 1., 1., 1., 1.,\n",
              "       1., 1., 1., 1., 1., 1., 1., 1., 1., 1., 1., 1., 1., 1., 1., 1., 1.,\n",
              "       1., 1., 1., 1., 1., 1., 1., 1., 1., 1., 1., 1., 1., 1., 1., 1., 1.,\n",
              "       1., 1., 1., 1., 1., 1., 1., 1., 1., 1., 1., 1., 1., 1., 1., 1., 1.,\n",
              "       1., 1., 1., 1., 1., 1., 1., 1., 1., 1., 1., 1., 1., 1., 1., 1., 1.,\n",
              "       1., 1., 1., 1., 1., 1., 1., 1., 1., 1., 1., 1., 1., 1., 1., 1., 1.,\n",
              "       1., 1., 1., 1., 1., 1., 1., 1., 1., 1., 1., 1., 1., 1., 1., 1., 1.,\n",
              "       1., 1., 1., 1., 1., 1., 1., 1., 1., 1., 1., 1., 1., 1., 1., 1., 1.,\n",
              "       1., 1., 1., 1., 1., 1., 1., 1., 1., 1., 1., 1., 1., 1., 1., 1., 1.,\n",
              "       1., 1., 1., 1., 1., 1., 1., 1., 1., 1., 1., 1., 1., 1., 1., 1., 1.,\n",
              "       1., 1., 1., 1., 1., 1., 1., 1., 1., 1., 1., 1., 1., 1., 1., 1., 1.,\n",
              "       1., 1., 1., 1., 1., 1., 1., 1., 1., 1., 1., 1., 1., 1., 1., 1., 1.,\n",
              "       1., 1., 1., 1., 1., 1., 1., 1., 1., 1., 1., 1., 1., 1., 1., 1., 1.,\n",
              "       1., 1., 1., 1., 1., 1., 1., 1., 1., 1., 1., 1., 1., 1., 1., 1., 1.,\n",
              "       1., 1., 1., 1., 1., 1., 1., 1., 1., 1., 1., 1., 1., 1., 1., 1., 1.,\n",
              "       1., 1., 1., 1., 1., 1., 1., 1., 1., 1., 1., 1., 1., 1., 1., 1., 1.,\n",
              "       1., 1., 1., 1., 1., 1., 1., 1., 1., 1., 1., 1., 1., 1., 1., 1., 1.,\n",
              "       1., 1., 1., 1., 1., 1., 1., 1., 1., 1., 1., 1., 1., 1., 1., 1., 1.,\n",
              "       1., 1., 1., 1., 1., 1., 1., 1., 1., 1., 1., 1., 1., 1., 1., 1., 1.,\n",
              "       1., 1., 1., 1., 1., 1., 1., 1., 1., 1., 1., 1., 1., 1., 1., 1., 1.,\n",
              "       1., 1., 1., 1., 1., 1., 1., 1., 1., 1., 1., 1., 1., 1., 1., 1., 1.,\n",
              "       1., 1., 1., 1., 1., 1., 1., 1., 1., 1., 1., 1., 1., 1., 1., 1., 1.,\n",
              "       1., 1., 1., 1., 1., 1., 1., 1., 1., 1., 1., 1., 1., 1., 1., 1., 1.,\n",
              "       1., 1., 1., 1., 1., 1., 1., 1., 1., 1., 1., 1., 1., 1., 1., 1., 1.,\n",
              "       1., 1., 1., 1., 1., 1., 1., 1., 1., 1., 1., 1., 1., 1., 1., 1., 1.,\n",
              "       1., 1., 1., 1., 1., 1., 1., 1., 1., 1., 1., 1., 1., 1., 1., 1., 1.,\n",
              "       1., 1., 1., 1., 1., 1., 1., 1., 1., 1., 1., 1., 1., 1., 1., 1., 1.,\n",
              "       1., 1., 1., 1., 1., 1., 1., 1., 1., 1., 1., 1., 1., 1., 1., 1., 1.,\n",
              "       1., 1., 1., 1., 1., 1., 1., 1., 1., 1., 1., 1., 1., 1., 1., 1., 1.,\n",
              "       1., 1., 1., 1., 1., 1., 1., 1., 1., 1., 1., 1., 1., 1., 1., 1., 1.,\n",
              "       1., 1., 1., 1., 1., 1., 1., 1., 1., 1., 1., 1., 1., 1., 1., 1., 1.,\n",
              "       1., 1., 1., 1., 1., 1., 1., 1., 1., 1., 1., 1., 1., 1., 1., 1., 1.,\n",
              "       1., 1., 1., 1., 1., 1., 1., 1., 1., 1., 1., 1., 1., 1., 1., 1., 1.,\n",
              "       1., 1., 1., 1., 1., 1., 1., 1., 1., 1., 1., 1., 1., 1., 1., 1., 1.,\n",
              "       1., 1., 1., 1., 1., 1., 1., 1., 1., 1., 1., 1., 1., 1., 1., 1., 1.,\n",
              "       1., 1., 1., 1., 1., 1., 1., 1., 1., 1., 1., 1., 1., 1., 1., 1., 1.,\n",
              "       1., 1., 1., 1., 1., 1., 1., 1., 1., 1., 1., 1., 1., 1., 1., 1., 1.,\n",
              "       1., 1., 1., 1., 1., 1., 1., 1., 1., 1., 1., 1., 1., 1., 1., 1., 1.,\n",
              "       1., 1., 1., 1., 1., 1., 1., 1., 1., 1., 1., 1., 1., 1., 1., 1., 1.,\n",
              "       1., 1., 1., 1., 1., 1., 1., 1., 1., 1., 1., 1., 1., 1., 1., 1., 1.,\n",
              "       1., 1., 1., 1., 1., 1., 1., 1., 1., 1., 1., 1., 1., 1., 1., 1., 1.,\n",
              "       1., 1., 1., 1., 1., 1., 1., 1., 1., 1., 1., 1., 1., 1., 1., 1., 1.,\n",
              "       1., 1., 1., 1., 1., 1., 1., 1., 1., 1., 1., 1., 1., 1., 1., 1., 1.,\n",
              "       1., 1., 1., 1., 1., 1., 1., 1., 1., 1., 1., 1., 1., 1., 1., 1., 1.,\n",
              "       1., 1., 1., 1., 1., 1., 1., 1., 1., 1., 1., 1., 1., 1., 1., 1., 1.,\n",
              "       1., 1., 1., 1., 1., 1., 1., 1., 1., 1., 1., 1., 1., 1., 1., 1., 1.,\n",
              "       1., 1., 1., 1., 1., 1., 1., 1., 1., 1., 1., 1., 1., 1., 1., 1., 1.,\n",
              "       1., 1., 1., 1., 1., 1., 1., 1., 1., 1., 1., 1., 1., 1., 1., 1., 1.,\n",
              "       1., 1., 1., 1., 1., 1., 1., 1., 1., 1., 1., 1., 1., 1., 1., 1., 1.,\n",
              "       1., 1., 1., 1., 1., 1., 1., 1., 1., 1., 1., 1., 1., 1., 1., 1., 1.,\n",
              "       1., 1., 1., 1., 1., 1., 1., 1., 1., 1., 1., 1., 1., 1., 1., 1., 1.,\n",
              "       1., 1., 1., 1., 1., 1., 1., 1., 1., 1., 1., 1., 1., 1., 1., 1., 1.,\n",
              "       1., 1., 1., 1., 1., 1., 1., 1., 1., 1., 1., 1., 1., 1., 1., 1., 1.,\n",
              "       1., 1., 1., 1., 1., 1., 1., 1., 1., 1., 1., 1., 1., 1., 1., 1., 1.,\n",
              "       1., 1., 1., 1., 1., 1., 1., 1., 1., 1., 1., 1., 1., 1., 1., 1., 1.,\n",
              "       1., 1., 1., 1., 1., 1., 1., 1., 1., 1., 1., 1., 1., 1., 1., 1., 1.,\n",
              "       1., 1., 1., 1., 1., 1., 1., 1., 1., 1., 1., 1., 1., 1.])"
            ]
          },
          "metadata": {},
          "execution_count": 57
        }
      ],
      "source": [
        "e"
      ]
    },
    {
      "cell_type": "code",
      "execution_count": 58,
      "metadata": {
        "colab": {
          "base_uri": "https://localhost:8080/"
        },
        "id": "A2Kp1j1aDfhI",
        "outputId": "313dff00-a5df-459a-90cc-e4b9897c8fad"
      },
      "outputs": [
        {
          "output_type": "execute_result",
          "data": {
            "text/plain": [
              "array([0., 0., 0., 0., 0., 0., 0., 0., 0., 0., 0., 0., 0., 0., 0., 0., 0.,\n",
              "       0., 0., 0., 0., 0., 0., 0., 0., 0., 0., 0., 0., 0., 0., 0., 0., 0.,\n",
              "       0., 0., 0., 0., 0., 0., 0., 0., 0., 0., 0., 0., 0., 0., 0., 0., 0.,\n",
              "       0., 0., 0., 0., 0., 0., 0., 0., 0., 0., 0., 0., 0., 0., 0., 0., 0.,\n",
              "       0., 0., 0., 0., 0., 0., 0., 0., 0., 0., 0., 0., 0., 0., 0., 0., 0.,\n",
              "       0., 0., 0., 0., 0., 0., 0., 0., 0., 0., 0., 0., 0., 0., 0., 0., 0.,\n",
              "       0., 0., 0., 0., 0., 0., 0., 0., 0., 0., 0., 0., 0., 0., 0., 0., 0.,\n",
              "       0., 0., 0., 0., 0., 0., 0., 0., 0., 0., 0., 0., 0., 0., 0., 0., 0.,\n",
              "       0., 0., 0., 0., 0., 0., 0., 0., 0., 0., 0., 0., 0., 0., 0., 0., 0.,\n",
              "       0., 0., 0., 0., 0., 0., 0., 0., 0., 0., 0., 0., 0., 0., 0., 0., 0.,\n",
              "       0., 0., 0., 0., 0., 0., 0., 0., 0., 0., 0., 0., 0., 0., 0., 0., 0.,\n",
              "       0., 0., 0., 0., 0., 0., 0., 0., 0., 0., 0., 0., 0., 0., 0., 0., 0.,\n",
              "       0., 0., 0., 0., 0., 0., 0., 0., 0., 0., 0., 0., 0., 0., 0., 0., 0.,\n",
              "       0., 0., 0., 0., 0., 0., 0., 0., 0., 0., 0., 0., 0., 0., 0., 0., 0.,\n",
              "       0., 0., 0., 0., 0., 0., 0., 0., 0., 0., 0., 0., 0., 0., 0., 0., 0.,\n",
              "       0., 0., 0., 0., 0., 0., 0., 0., 0., 0., 0., 0., 0., 0., 0., 0., 0.,\n",
              "       0., 0., 0., 0., 0., 0., 0., 0., 0., 0., 0., 0., 0., 0., 0., 0., 0.,\n",
              "       0., 0., 0., 0., 0., 0., 0., 0., 0., 0., 0., 0., 0., 0., 0., 0., 0.,\n",
              "       0., 0., 0., 0., 0., 0., 0., 0., 0., 0., 0., 0., 0., 0., 0., 0., 0.,\n",
              "       0., 0., 0., 0., 0., 0., 0., 0., 0., 0., 0., 0., 0., 0., 0., 0., 0.,\n",
              "       0., 0., 0., 0., 0., 0., 0., 0., 0., 0., 0., 0., 0., 0., 0., 0., 0.,\n",
              "       0., 0., 0., 0., 0., 0., 0., 0., 0., 0., 0., 0., 0., 0., 0., 0., 0.,\n",
              "       0., 0., 0., 0., 0., 0., 0., 0., 0., 0., 0., 0., 0., 0., 0., 0., 0.,\n",
              "       0., 0., 0., 0., 0., 0., 0., 0., 0., 0., 0., 0., 0., 0., 0., 0., 0.,\n",
              "       0., 0., 0., 0., 0., 0., 0., 0., 0., 0., 0., 0., 0., 0., 0., 0., 0.,\n",
              "       0., 0., 0., 0., 0., 0., 0., 0., 0., 0., 0., 0., 0., 0., 0., 0., 0.,\n",
              "       0., 0., 0., 0., 0., 0., 0., 0., 0., 0., 0., 0., 0., 0., 0., 0., 0.,\n",
              "       0., 0., 0., 0., 0., 0., 0., 0., 0., 0., 0., 0., 0., 0., 0., 0., 0.,\n",
              "       0., 0., 0., 0., 0., 0., 0., 0., 0., 0., 0., 0., 0., 0., 0., 0., 0.,\n",
              "       0., 0., 0., 0., 0., 0., 0., 0., 0., 0., 0., 0., 0., 0., 0., 0., 0.,\n",
              "       0., 0., 0., 0., 0., 0., 0., 0., 0., 0., 0., 0., 0., 0., 0., 0., 0.,\n",
              "       0., 0., 0., 0., 0., 0., 0., 0., 0., 0., 0., 0., 0., 0., 0., 0., 0.,\n",
              "       0., 0., 0., 0., 0., 0., 0., 0., 0., 0., 0., 0., 0., 0., 0., 0., 0.,\n",
              "       0., 0., 0., 0., 0., 0., 0., 0., 0., 0., 0., 0., 0., 0., 0., 0., 0.,\n",
              "       0., 0., 0., 0., 0., 0., 0., 0., 0., 0., 0., 0., 0., 0., 0., 0., 0.,\n",
              "       0., 0., 0., 0., 0., 0., 0., 0., 0., 0., 0., 0., 0., 0., 0., 0., 0.,\n",
              "       0., 0., 0., 0., 0., 0., 0., 0., 0., 0., 0., 0., 0., 0., 0., 0., 0.,\n",
              "       0., 0., 0., 0., 0., 0., 0., 0., 0., 0., 0., 0., 0., 0., 0., 0., 0.,\n",
              "       0., 0., 0., 0., 0., 0., 0., 0., 0., 0., 0., 0., 0., 0., 0., 0., 0.,\n",
              "       0., 0., 0., 0., 0., 0., 0., 0., 0., 0., 0., 0., 0., 0., 0., 0., 0.,\n",
              "       0., 0., 0., 0., 0., 0., 0., 0., 0., 0., 0., 0., 0., 0., 0., 0., 0.,\n",
              "       0., 0., 0., 0., 0., 0., 0., 0., 0., 0., 0., 0., 0., 0., 0., 0., 0.,\n",
              "       0., 0., 0., 0., 0., 0., 0., 0., 0., 0., 0., 0., 0., 0., 0., 0., 0.,\n",
              "       0., 0., 0., 0., 0., 0., 0., 0., 0., 0., 0., 0., 0., 0., 0., 0., 0.,\n",
              "       0., 0., 0., 0., 0., 0., 0., 0., 0., 0., 0., 0., 0., 0., 0., 0., 0.,\n",
              "       0., 0., 0., 0., 0., 0., 0., 0., 0., 0., 0., 0., 0., 0., 0., 0., 0.,\n",
              "       0., 0., 0., 0., 0., 0., 0., 0., 0., 0., 0., 0., 0., 0., 0., 0., 0.,\n",
              "       0., 0., 0., 0., 0., 0., 0., 0., 0., 0., 0., 0., 0., 0., 0., 0., 0.,\n",
              "       0., 0., 0., 0., 0., 0., 0., 0., 0., 0., 0., 0., 0., 0., 0., 0., 0.,\n",
              "       0., 0., 0., 0., 0., 0., 0., 0., 0., 0., 0., 0., 0., 0., 0., 0., 0.,\n",
              "       0., 0., 0., 0., 0., 0., 0., 0., 0., 0., 0., 0., 0., 0., 0., 0., 0.,\n",
              "       0., 0., 0., 0., 0., 0., 0., 0., 0., 0., 0., 0., 0., 0., 0., 0., 0.,\n",
              "       0., 0., 0., 0., 0., 0., 0., 0., 0., 0., 0., 0., 0., 0., 0., 0., 0.,\n",
              "       0., 0., 0., 0., 0., 0., 0., 0., 0., 0., 0., 0., 0., 0., 0., 0., 0.,\n",
              "       0., 0., 0., 0., 0., 0., 0., 0., 0., 0., 0., 0., 0., 0., 0., 0., 0.,\n",
              "       0., 0., 0., 0., 0., 0., 0., 0., 0., 0., 0., 0., 0., 0., 0., 0., 0.,\n",
              "       0., 0., 0., 0., 0., 0., 0., 0., 0., 0., 0., 0., 0., 0., 0., 0., 0.,\n",
              "       0., 0., 0., 0., 0., 0., 0., 0., 0., 0., 0., 0., 0., 0., 0., 0., 0.,\n",
              "       0., 0., 0., 0., 0., 0., 0., 0., 0., 0., 0., 0., 0., 0.])"
            ]
          },
          "metadata": {},
          "execution_count": 58
        }
      ],
      "source": [
        "np.dot(L,e) # it corresponds to zero eigenvalue"
      ]
    },
    {
      "cell_type": "code",
      "execution_count": 59,
      "metadata": {
        "colab": {
          "base_uri": "https://localhost:8080/"
        },
        "id": "wQLVhSoxDfhK",
        "outputId": "15d14fcc-08e3-40bf-84ce-353d6693ab94"
      },
      "outputs": [
        {
          "output_type": "execute_result",
          "data": {
            "text/plain": [
              "-2.7977306656783855e-14"
            ]
          },
          "metadata": {},
          "execution_count": 59
        }
      ],
      "source": [
        "W[0] #even though due to numeric instability it is not zero in our method"
      ]
    },
    {
      "cell_type": "markdown",
      "metadata": {
        "id": "pYu6A5YR_jCW"
      },
      "source": [
        "### 2. Meaningful Partitions of Real Datasets (100%)\n",
        "\"The previous example was rather compelling. However, it was also fake.\"\n",
        "\n",
        "We can play with real anonymised data from Yahoo https://www.dropbox.com/s/ii1e09dx6o2ktit/yahoo.zip?dl=0 for web advertisment."
      ]
    },
    {
      "cell_type": "code",
      "source": [
        "from google.colab import drive\n",
        "drive.mount('/content/drive')"
      ],
      "metadata": {
        "colab": {
          "base_uri": "https://localhost:8080/"
        },
        "id": "HFI8xJae8roa",
        "outputId": "cfaf15e4-3297-456f-b263-d2b3b98c3613"
      },
      "execution_count": 60,
      "outputs": [
        {
          "output_type": "stream",
          "name": "stdout",
          "text": [
            "Mounted at /content/drive\n"
          ]
        }
      ]
    },
    {
      "cell_type": "code",
      "execution_count": 61,
      "metadata": {
        "id": "6U4SjCVu_jCY"
      },
      "outputs": [],
      "source": [
        "# reading data, 2000 companies, 3000 advertising terms, \n",
        "# 92345 connections in the graph showing that a firm buys a term\n",
        "a = np.genfromtxt('/content/drive/My Drive/Colab Notebooks/yahoo/us.3k.2k.smat')\n",
        "a = a.astype(int)\n",
        "n, m, n_connections = a[0]"
      ]
    },
    {
      "cell_type": "code",
      "execution_count": 62,
      "metadata": {
        "colab": {
          "base_uri": "https://localhost:8080/"
        },
        "id": "maXTf-G5DfhU",
        "outputId": "37ef2aa7-60f4-48d9-9f56-64408678073d"
      },
      "outputs": [
        {
          "output_type": "execute_result",
          "data": {
            "text/plain": [
              "array([[  0,  23,   1],\n",
              "       [  0,  96,   1],\n",
              "       [  0, 188,   1],\n",
              "       [  0, 328,   1],\n",
              "       [  0, 556,   1],\n",
              "       [  0, 632,   1],\n",
              "       [  0, 672,   1],\n",
              "       [  0, 700,   1],\n",
              "       [  0, 714,   1]])"
            ]
          },
          "metadata": {},
          "execution_count": 62
        }
      ],
      "source": [
        "a[1:10]"
      ]
    },
    {
      "cell_type": "code",
      "execution_count": 63,
      "metadata": {
        "id": "5GULoysw_jCZ"
      },
      "outputs": [],
      "source": [
        "#let us put data in the adjacency matrix n x m\n",
        "A_small = np.zeros((n, m))\n",
        "A_small[a[1:, 0], a[1:, 1]] = 1"
      ]
    },
    {
      "cell_type": "code",
      "execution_count": 64,
      "metadata": {
        "id": "0IuVdiI3_jCd"
      },
      "outputs": [],
      "source": [
        "A = np.vstack(\n",
        "    (np.hstack(\n",
        "        (np.zeros((n, n)), A_small)\n",
        "    ),\n",
        "     np.hstack((A_small.T, np.zeros((m, m))))\n",
        "    )\n",
        ")"
      ]
    },
    {
      "cell_type": "code",
      "execution_count": 65,
      "metadata": {
        "id": "Mg0pQyDp_jCg"
      },
      "outputs": [],
      "source": [
        "# let us calcualte the number of non-zero elements (connections)\n",
        "assert sum(sum(A_small)) == 92345"
      ]
    },
    {
      "cell_type": "code",
      "execution_count": 66,
      "metadata": {
        "id": "-9MhUwS5_jCm"
      },
      "outputs": [],
      "source": [
        "# let us read terms along with their ids\n",
        "labels = list()\n",
        "with open(\"/content/drive/My Drive/Colab Notebooks/yahoo/us.3k.2k.trms\", 'r') as iofile:\n",
        "    for line in iofile:\n",
        "        labels.append(line.rstrip())"
      ]
    },
    {
      "cell_type": "code",
      "execution_count": 67,
      "metadata": {
        "colab": {
          "base_uri": "https://localhost:8080/"
        },
        "id": "APKO8qaSDfhh",
        "outputId": "7ac5be65-bc44-45ad-c9a1-f4fea75a626f"
      },
      "outputs": [
        {
          "output_type": "execute_result",
          "data": {
            "text/plain": [
              "['12a1970 lexmark',\n",
              " '2 stacker',\n",
              " '21 black jack',\n",
              " '2nd mortgage',\n",
              " 'acapulco hotel',\n",
              " 'accept account card credit merchant',\n",
              " 'accept card credit',\n",
              " 'accept card credit online',\n",
              " 'accessory computer',\n",
              " 'accessory desk',\n",
              " 'accommodation',\n",
              " 'accommodation hotel',\n",
              " 'accommodation las vegas',\n",
              " 'accommodation new york',\n",
              " 'accommodation orlando',\n",
              " 'accommodation paris',\n",
              " 'account card credit merchant',\n",
              " 'account cost low merchant',\n",
              " 'account ecommerce merchant',\n",
              " 'account internet merchant',\n",
              " 'account merchant',\n",
              " 'account merchant online',\n",
              " 'account merchant provider',\n",
              " 'account merchant service',\n",
              " 'acid alpha lipoic',\n",
              " 'acid amino',\n",
              " 'acid folic',\n",
              " 'acne medication',\n",
              " 'acura cl',\n",
              " 'acyclovir',\n",
              " 'ad banner',\n",
              " 'ad personal',\n",
              " 'add url',\n",
              " 'address internet',\n",
              " 'address web',\n",
              " 'adds personal',\n",
              " 'adipex',\n",
              " 'adipex buy',\n",
              " 'adipex buy online',\n",
              " 'adipex cheap',\n",
              " 'adipex diet',\n",
              " 'adipex diet pill',\n",
              " 'adipex line',\n",
              " 'adipex online',\n",
              " 'adipex online order',\n",
              " 'adipex online prescription',\n",
              " 'adipex order',\n",
              " 'adipex p',\n",
              " 'adipex phentermine',\n",
              " 'adipex prescription',\n",
              " 'adjustable mortgage rate',\n",
              " 'ads free personal',\n",
              " 'ads online personal',\n",
              " 'ads personal picture',\n",
              " 'ads personal single',\n",
              " 'ads single',\n",
              " 'adult',\n",
              " 'adult amateur video',\n",
              " 'adult dating',\n",
              " 'adult dating services',\n",
              " 'adult entertainment',\n",
              " 'adult film',\n",
              " 'adult movie',\n",
              " 'adult movie sex',\n",
              " 'adult movie xxx',\n",
              " 'adult personal',\n",
              " 'adult picture',\n",
              " 'adult porn',\n",
              " 'adult sex',\n",
              " 'adult sex video',\n",
              " 'adult site',\n",
              " 'adult site web',\n",
              " 'adult video',\n",
              " 'adult video xxx',\n",
              " 'adult xxx',\n",
              " 'adventure travel',\n",
              " 'adventure vacation',\n",
              " 'advertise',\n",
              " 'advertise site web',\n",
              " 'advertising',\n",
              " 'advertising banner',\n",
              " 'advertising business',\n",
              " 'advertising campaign',\n",
              " 'advertising click pay per',\n",
              " 'advertising email',\n",
              " 'advertising engine search',\n",
              " 'advertising free',\n",
              " 'advertising internet',\n",
              " 'advertising internet marketing',\n",
              " 'advertising marketing',\n",
              " 'advertising online',\n",
              " 'advertising promotion',\n",
              " 'advertising promotional',\n",
              " 'advertising site web',\n",
              " 'advertising specialty',\n",
              " 'advertising strategy',\n",
              " 'advertising web',\n",
              " 'advice business small',\n",
              " 'advice internet marketing',\n",
              " 'affiliate',\n",
              " 'affiliate associate program',\n",
              " 'affiliate best program',\n",
              " 'affiliate free program',\n",
              " 'affiliate internet program',\n",
              " 'affiliate marketing',\n",
              " 'affiliate marketing program',\n",
              " 'affiliate master program web',\n",
              " 'affiliate online program',\n",
              " 'affiliate opportunity',\n",
              " 'affiliate partner program',\n",
              " 'affiliate program',\n",
              " 'affiliate program site web',\n",
              " 'affiliate program top',\n",
              " 'affiliate program web',\n",
              " 'affordable cheap hosting web',\n",
              " 'affordable design site web',\n",
              " 'affordable design web',\n",
              " 'affordable host web',\n",
              " 'affordable hosting',\n",
              " 'affordable hosting site web',\n",
              " 'affordable hosting web',\n",
              " 'affordable promotion site web',\n",
              " 'agency dating',\n",
              " 'agency travel',\n",
              " 'agent travel',\n",
              " 'aids diet',\n",
              " 'air cheap travel',\n",
              " 'air discount travel',\n",
              " 'air ticket',\n",
              " 'air travel',\n",
              " 'airfare',\n",
              " 'airfare bargain',\n",
              " 'airfare cheap',\n",
              " 'airfare discount',\n",
              " 'airfare international',\n",
              " 'airfare low',\n",
              " 'airfare lowest',\n",
              " 'airline cheap ticket',\n",
              " 'airline discount ticket',\n",
              " 'airline reservation',\n",
              " 'airline ticket',\n",
              " 'airline travel',\n",
              " 'alaska',\n",
              " 'alaska cruise',\n",
              " 'alaska travel',\n",
              " 'albany hotel',\n",
              " 'albuquerque hotel',\n",
              " 'aloe vera',\n",
              " 'alpine',\n",
              " 'alternative medicine',\n",
              " 'alternative viagra',\n",
              " 'altima nissan',\n",
              " 'amateur blow job',\n",
              " 'amateur erotica',\n",
              " 'amateur hardcore',\n",
              " 'amateur naked',\n",
              " 'amateur nude',\n",
              " 'amateur nude photo',\n",
              " 'amateur nude woman',\n",
              " 'amateur pic sex',\n",
              " 'amateur picture sex',\n",
              " 'amateur porn',\n",
              " 'amateur pussy',\n",
              " 'amateur sex',\n",
              " 'amateur sex video',\n",
              " 'amateur xxx',\n",
              " 'america cruise holland',\n",
              " 'america cruise holland line',\n",
              " 'american single',\n",
              " 'amsterdam',\n",
              " 'amsterdam hotel',\n",
              " 'anaheim',\n",
              " 'anaheim california hotel',\n",
              " 'anaheim discount hotel',\n",
              " 'anaheim hotel',\n",
              " 'anal',\n",
              " 'anal fuck',\n",
              " 'anal fucking',\n",
              " 'anal hardcore',\n",
              " 'anal hardcore sex',\n",
              " 'anal movie',\n",
              " 'anal penetration',\n",
              " 'anal photo sex',\n",
              " 'anal pic',\n",
              " 'anal pic sex',\n",
              " 'anal picture',\n",
              " 'anal picture sex',\n",
              " 'anal porn',\n",
              " 'anal sex',\n",
              " 'anal sex video',\n",
              " 'anal video',\n",
              " 'anchorage hotel',\n",
              " 'andro',\n",
              " 'angel',\n",
              " 'angeles ca hotel los',\n",
              " 'angeles discount hotel los',\n",
              " 'angeles hotel los',\n",
              " 'angeles los',\n",
              " 'annapolis hotel',\n",
              " 'anniversary',\n",
              " 'anniversary flower',\n",
              " 'anniversary gift',\n",
              " 'anniversary gift idea',\n",
              " 'anniversary gift idea wedding',\n",
              " 'anniversary gift unique',\n",
              " 'anniversary gift wedding',\n",
              " 'anniversary present',\n",
              " 'antioxidant',\n",
              " 'antonio hotel san',\n",
              " 'antonio hotel san texas',\n",
              " 'antonio hotel san tx',\n",
              " 'antonio san',\n",
              " 'apparel',\n",
              " 'appetite suppressant',\n",
              " 'apple',\n",
              " 'application card credit',\n",
              " 'application card credit online',\n",
              " 'application card credit visa',\n",
              " 'application development web',\n",
              " 'apply card credit',\n",
              " 'apply card credit online',\n",
              " 'approval card credit instant',\n",
              " 'approval card credit online',\n",
              " 'apr card credit low',\n",
              " 'arizona',\n",
              " 'arizona hotel phoenix',\n",
              " 'arizona hotel tucson',\n",
              " 'arizona mortgage',\n",
              " 'arlington hotel',\n",
              " 'aromatherapy',\n",
              " 'arrangement flower',\n",
              " 'art',\n",
              " 'aruba',\n",
              " 'asheville hotel',\n",
              " 'asian ass',\n",
              " 'asian fuck',\n",
              " 'asian hardcore',\n",
              " 'asian naked',\n",
              " 'asian naked woman',\n",
              " 'asian nude',\n",
              " 'asian nude woman',\n",
              " 'asian picture sex',\n",
              " 'asian porn',\n",
              " 'asian porn star',\n",
              " 'asian pussy',\n",
              " 'asian sex',\n",
              " 'asian slut',\n",
              " 'asian tit',\n",
              " 'asian xxx',\n",
              " 'asp',\n",
              " 'asp hosting',\n",
              " 'asp hosting web',\n",
              " 'aspen',\n",
              " 'aspen hotel',\n",
              " 'ass',\n",
              " 'ass big black',\n",
              " 'ass black',\n",
              " 'ass fucking',\n",
              " 'ass teen',\n",
              " 'associate program',\n",
              " 'athens',\n",
              " 'athens hotel',\n",
              " 'atkins',\n",
              " 'atkins diet',\n",
              " 'atlanta',\n",
              " 'atlanta discount hotel',\n",
              " 'atlanta ga hotel',\n",
              " 'atlanta georgia hotel',\n",
              " 'atlanta hotel',\n",
              " 'atlantic city',\n",
              " 'atlantic city hotel',\n",
              " 'atlantic city hotel jersey new',\n",
              " 'atlantic city hotel nj',\n",
              " 'atlantic city hotel reservation',\n",
              " 'aurora',\n",
              " 'austin',\n",
              " 'austin hotel',\n",
              " 'austin hotel texas',\n",
              " 'australia',\n",
              " 'australia travel',\n",
              " 'auto',\n",
              " 'auto buying',\n",
              " 'auto financing',\n",
              " 'auto insurance quote',\n",
              " 'auto loan',\n",
              " 'auto price',\n",
              " 'auto pricing',\n",
              " 'automobile',\n",
              " 'avalon',\n",
              " 'avoid bankruptcy',\n",
              " 'b complex vitamin',\n",
              " 'b vitamin',\n",
              " 'b12 vitamin',\n",
              " 'baby basket gift',\n",
              " 'baby basket gift new',\n",
              " 'baby gift',\n",
              " 'baby gift idea',\n",
              " 'baby gift new',\n",
              " 'baby gift shower',\n",
              " 'baby gift unique',\n",
              " 'baccarat',\n",
              " 'baccarat casino game',\n",
              " 'baccarat online',\n",
              " 'baccarat play',\n",
              " 'backpack',\n",
              " 'bad card credit credit',\n",
              " 'bad card credit credit people',\n",
              " 'bad consolidation credit debt',\n",
              " 'bad credit',\n",
              " 'bad credit equity home loan',\n",
              " 'bad credit home loan',\n",
              " 'bad credit home mortgage',\n",
              " 'bad credit lender mortgage',\n",
              " 'bad credit loan',\n",
              " 'bad credit loan mortgage',\n",
              " 'bad credit loan people',\n",
              " 'bad credit mortgage',\n",
              " 'bad debt',\n",
              " 'bahamas',\n",
              " 'bahamas cruise',\n",
              " 'bahamas hotel',\n",
              " 'bahamas vacation',\n",
              " 'baltimore hotel',\n",
              " 'baltimore hotel maryland',\n",
              " 'banking mortgage',\n",
              " 'bar protein',\n",
              " 'bar protein pure',\n",
              " 'barbara hotel santa',\n",
              " 'barcelona',\n",
              " 'barcelona hotel',\n",
              " 'bargain cruise',\n",
              " 'bargain travel',\n",
              " 'base business home',\n",
              " 'base business home idea',\n",
              " 'base business home internet',\n",
              " 'base business home opportunity',\n",
              " 'base business home start',\n",
              " 'baseball bet',\n",
              " 'baseball betting',\n",
              " 'baseball betting line',\n",
              " 'baseball gambling',\n",
              " 'baseball odds',\n",
              " 'based best business home',\n",
              " 'based business computer home',\n",
              " 'based business free home opportunity',\n",
              " 'based business home',\n",
              " 'based business home idea',\n",
              " 'based business home internet',\n",
              " 'based business home internet opportunity',\n",
              " 'based business home internet real',\n",
              " 'based business home legitimate',\n",
              " 'based business home mlm',\n",
              " 'based business home online',\n",
              " 'based business home online opportunity',\n",
              " 'based business home online start',\n",
              " 'based business home opportunity',\n",
              " 'based business home small',\n",
              " 'based business home start',\n",
              " 'based business home starting',\n",
              " 'based business home top',\n",
              " 'based business home work',\n",
              " 'based business internet',\n",
              " 'based business internet opportunity',\n",
              " 'based home opportunity',\n",
              " 'based home work',\n",
              " 'basket birthday gift',\n",
              " 'basket business gift',\n",
              " 'basket chocolate gift',\n",
              " 'basket corporate gift',\n",
              " 'basket food gift',\n",
              " 'basket fruit',\n",
              " 'basket gift',\n",
              " 'basket gift gourmet',\n",
              " 'basket gift holiday',\n",
              " 'basket gift online',\n",
              " 'basket gift thank',\n",
              " 'basket gift unique',\n",
              " 'basket gourmet',\n",
              " 'basketball bet',\n",
              " 'basketball betting',\n",
              " 'basketball betting football',\n",
              " 'basketball gambling',\n",
              " 'basketball gambling online',\n",
              " 'basketball wagering',\n",
              " 'bath',\n",
              " 'battery',\n",
              " 'beach',\n",
              " 'beach carolina hotel myrtle south',\n",
              " 'beach city hotel panama',\n",
              " 'beach cocoa hotel',\n",
              " 'beach daytona',\n",
              " 'beach daytona fl hotel',\n",
              " 'beach daytona florida',\n",
              " 'beach daytona florida hotel',\n",
              " 'beach daytona hotel',\n",
              " 'beach daytona lodging',\n",
              " 'beach florida hotel miami',\n",
              " 'beach hotel miami',\n",
              " 'beach hotel myrtle',\n",
              " 'beach hotel myrtle north',\n",
              " 'beach hotel myrtle sc',\n",
              " 'beach hotel palm',\n",
              " 'beach hotel palm west',\n",
              " 'beach miami',\n",
              " 'beach myrtle',\n",
              " 'beach vacation',\n",
              " 'bear teddy',\n",
              " 'beauty',\n",
              " 'beauty product',\n",
              " 'berlin',\n",
              " 'berlin hotel',\n",
              " 'bermuda cruise',\n",
              " 'best book online sport',\n",
              " 'best book sport',\n",
              " 'best business home',\n",
              " 'best business internet',\n",
              " 'best business opportunity',\n",
              " 'best card credit',\n",
              " 'best casino',\n",
              " 'best casino gambling online',\n",
              " 'best casino internet',\n",
              " 'best casino online',\n",
              " 'best company hosting web',\n",
              " 'best design site web',\n",
              " 'best design web',\n",
              " 'best diet pill',\n",
              " 'best distance long rate',\n",
              " 'best equity home loan',\n",
              " 'best equity home loan rate',\n",
              " 'best gambling online',\n",
              " 'best gambling site',\n",
              " 'best gambling site web',\n",
              " 'best home loan mortgage rate refinance',\n",
              " 'best host web',\n",
              " 'best hosting provider web',\n",
              " 'best hosting service site web',\n",
              " 'best hosting service web',\n",
              " 'best hosting services site web',\n",
              " 'best hosting services web',\n",
              " 'best hosting site web',\n",
              " 'best hosting web',\n",
              " 'best mlm',\n",
              " 'best mortgage rate',\n",
              " 'best online wagering',\n",
              " 'bet',\n",
              " 'bet bowl super',\n",
              " 'bet casino',\n",
              " 'bet college football',\n",
              " 'bet football',\n",
              " 'bet football online',\n",
              " 'bet free',\n",
              " 'bet golf',\n",
              " 'bet internet',\n",
              " 'bet line',\n",
              " 'bet nfl',\n",
              " 'bet online',\n",
              " 'bet online sport',\n",
              " 'bet place',\n",
              " 'bet soccer',\n",
              " 'bet sport',\n",
              " 'bet sports',\n",
              " 'bet virtual',\n",
              " 'bet where',\n",
              " 'beta carotene',\n",
              " 'better engine placement search',\n",
              " 'betting',\n",
              " 'betting black jack',\n",
              " 'betting book line sport',\n",
              " 'betting book online sport',\n",
              " 'betting book sport',\n",
              " 'betting casino',\n",
              " 'betting casino online',\n",
              " 'betting college football',\n",
              " 'betting college football line',\n",
              " 'betting football',\n",
              " 'betting football line',\n",
              " 'betting football ncaa',\n",
              " 'betting football nfl',\n",
              " 'betting football odds',\n",
              " 'betting football online',\n",
              " 'betting football pro',\n",
              " 'betting golf',\n",
              " 'betting hockey',\n",
              " 'betting horse',\n",
              " 'betting internet',\n",
              " 'betting internet sport',\n",
              " 'betting internet sports',\n",
              " 'betting line',\n",
              " 'betting line nfl',\n",
              " 'betting line sport',\n",
              " 'betting line sports',\n",
              " 'betting listing',\n",
              " 'betting nba',\n",
              " 'betting nfl',\n",
              " 'betting nfl odds',\n",
              " 'betting odds',\n",
              " 'betting odds sport',\n",
              " 'betting offshore',\n",
              " 'betting offshore sport',\n",
              " 'betting offshore wagering',\n",
              " 'betting online',\n",
              " 'betting online shop',\n",
              " 'betting online sport',\n",
              " 'betting online sports',\n",
              " 'betting site',\n",
              " 'betting soccer',\n",
              " 'betting sport',\n",
              " 'betting sport wagering',\n",
              " 'betting sports',\n",
              " 'betting spread',\n",
              " 'betting virtual',\n",
              " 'beverly hills hotel',\n",
              " 'big make money',\n",
              " 'big tit',\n",
              " 'bilberry',\n",
              " 'bill consolidate',\n",
              " 'bill consolidation',\n",
              " 'bill consolidation debt',\n",
              " 'bill consolidation loan',\n",
              " 'biloba ginkgo',\n",
              " 'biloxi hotel',\n",
              " 'binder',\n",
              " 'bird house',\n",
              " 'birmingham',\n",
              " 'birmingham hotel',\n",
              " 'birthday',\n",
              " 'birthday flower',\n",
              " 'birthday gift',\n",
              " 'birthday gift idea',\n",
              " 'birthday gift idea unique',\n",
              " 'birthday gift man',\n",
              " 'birthday gift mom',\n",
              " 'birthday gift unique',\n",
              " 'birthday present',\n",
              " 'biz',\n",
              " 'black card game jack',\n",
              " 'black casino game jack',\n",
              " 'black casino jack',\n",
              " 'black casino jack online',\n",
              " 'black casino jack poker',\n",
              " 'black casino jack roulette',\n",
              " 'black craps jack roulette',\n",
              " 'black download game jack',\n",
              " 'black download jack',\n",
              " 'black free game jack',\n",
              " 'black free jack',\n",
              " 'black free jack online',\n",
              " 'black gambling jack',\n",
              " 'black gambling jack online',\n",
              " 'black game jack',\n",
              " 'black game jack online',\n",
              " 'black internet jack',\n",
              " 'black jack',\n",
              " 'black jack java',\n",
              " 'black jack machine slot',\n",
              " 'black jack online',\n",
              " 'black jack online play',\n",
              " 'black jack play',\n",
              " 'black jack poker',\n",
              " 'black jack poker roulette',\n",
              " 'black jack roulette',\n",
              " 'black jack software',\n",
              " 'black jack tip',\n",
              " 'black jack virtual',\n",
              " 'black jack win',\n",
              " 'black jack winning',\n",
              " 'black porn',\n",
              " 'black pussy',\n",
              " 'black sex',\n",
              " 'blind date',\n",
              " 'blocker fat',\n",
              " 'blow hardcore job',\n",
              " 'blow job',\n",
              " 'blow job movie',\n",
              " 'blow job teen',\n",
              " 'boca hotel raton',\n",
              " 'body building',\n",
              " 'body building supplement',\n",
              " 'bontril',\n",
              " 'bontril buy',\n",
              " 'bontril buy online',\n",
              " 'bontril cheap',\n",
              " 'bontril online',\n",
              " 'bontril sr',\n",
              " 'bonus casino',\n",
              " 'bonus casino free',\n",
              " 'bonus casino online',\n",
              " 'book',\n",
              " 'book casino gambling sport',\n",
              " 'book casino online sport',\n",
              " 'book casino sport',\n",
              " 'book cyber sport',\n",
              " 'book football sport',\n",
              " 'book gambling online sport',\n",
              " 'book gambling sport',\n",
              " 'book gaming sport',\n",
              " 'book internet sport',\n",
              " 'book legal sport',\n",
              " 'book line sport',\n",
              " 'book maker',\n",
              " 'book nfl sport',\n",
              " 'book offshore sport',\n",
              " 'book online sport',\n",
              " 'book online sport wagering',\n",
              " 'book sport',\n",
              " 'book sport wager',\n",
              " 'book sport wagering',\n",
              " 'book sports',\n",
              " 'bookie',\n",
              " 'bookie online',\n",
              " 'boss own',\n",
              " 'boston',\n",
              " 'boston hotel',\n",
              " 'boston hotel ma',\n",
              " 'boston hotel massachusetts',\n",
              " 'bouquet',\n",
              " 'bouquet flower',\n",
              " 'bouquet rose',\n",
              " 'box jewelry',\n",
              " 'bracelet',\n",
              " 'branson',\n",
              " 'branson hotel',\n",
              " 'brazil',\n",
              " 'bridesmaid gift',\n",
              " 'briefcase',\n",
              " 'briefcase leather',\n",
              " 'broker mortgage',\n",
              " 'brother',\n",
              " 'brother toner',\n",
              " 'brussels hotel',\n",
              " 'budget host',\n",
              " 'budget travel',\n",
              " 'buffalo hotel',\n",
              " 'buick',\n",
              " 'build own site web',\n",
              " 'build page web',\n",
              " 'build site web',\n",
              " 'builder page web',\n",
              " 'builder site web',\n",
              " 'building page web',\n",
              " 'building site web',\n",
              " 'burn fat',\n",
              " 'burner fat',\n",
              " 'burning fat',\n",
              " 'business',\n",
              " 'business business',\n",
              " 'business business ecommerce',\n",
              " 'business business marketing',\n",
              " 'business card credit',\n",
              " 'business computer home',\n",
              " 'business design site small web',\n",
              " 'business design site web',\n",
              " 'business design small web',\n",
              " 'business distance long',\n",
              " 'business ecommerce',\n",
              " 'business ecommerce internet solution',\n",
              " 'business ecommerce small',\n",
              " 'business ecommerce solution',\n",
              " 'business free opportunity',\n",
              " 'business from home',\n",
              " 'business from home opportunity work',\n",
              " 'business from home work',\n",
              " 'business gift',\n",
              " 'business home',\n",
              " 'business home home work',\n",
              " 'business home idea',\n",
              " 'business home in',\n",
              " 'business home internet',\n",
              " 'business home internet opportunity',\n",
              " 'business home internet work',\n",
              " 'business home legitimate',\n",
              " 'business home make money opportunity',\n",
              " 'business home mlm',\n",
              " 'business home online',\n",
              " 'business home opportunity',\n",
              " 'business home opportunity work',\n",
              " 'business home small',\n",
              " 'business home start',\n",
              " 'business home starting',\n",
              " 'business home startup',\n",
              " 'business home stay',\n",
              " 'business home work',\n",
              " 'business homebased',\n",
              " 'business homebased internet',\n",
              " 'business homebased opportunity',\n",
              " 'business hosting',\n",
              " 'business hosting site web',\n",
              " 'business hosting small web',\n",
              " 'business hosting web',\n",
              " 'business idea',\n",
              " 'business idea internet',\n",
              " 'business idea small',\n",
              " 'business internet',\n",
              " 'business internet marketing',\n",
              " 'business internet marketing online',\n",
              " 'business internet online opportunity',\n",
              " 'business internet opportunity',\n",
              " 'business internet own start',\n",
              " 'business internet solution',\n",
              " 'business internet start',\n",
              " 'business internet starting',\n",
              " 'business making money opportunity',\n",
              " 'business marketing',\n",
              " 'business marketing network',\n",
              " 'business marketing network opportunity',\n",
              " 'business marketing online',\n",
              " 'business marketing small',\n",
              " 'business mlm',\n",
              " 'business mlm opportunity',\n",
              " 'business new',\n",
              " 'business new opportunity',\n",
              " 'business online',\n",
              " 'business online opportunity',\n",
              " 'business online start',\n",
              " 'business online starting',\n",
              " 'business opportunity',\n",
              " 'business opportunity seeker',\n",
              " 'business opportunity small',\n",
              " 'business opportunity web',\n",
              " 'business own start',\n",
              " 'business own starting',\n",
              " 'business plan',\n",
              " 'business plan small',\n",
              " 'business promotion',\n",
              " 'business resource',\n",
              " 'business resource small',\n",
              " 'business service',\n",
              " 'business site small web',\n",
              " 'business site web',\n",
              " 'business small',\n",
              " 'business small start',\n",
              " 'business small start up',\n",
              " 'business small starting',\n",
              " 'business small startup',\n",
              " 'business software',\n",
              " 'business start',\n",
              " 'business start up',\n",
              " 'business starting',\n",
              " 'business travel',\n",
              " 'business web',\n",
              " 'buy car',\n",
              " 'buy car new',\n",
              " 'buy didrex',\n",
              " 'buy diet online pill',\n",
              " 'buy diet pill',\n",
              " 'buy domain',\n",
              " 'buy domain name',\n",
              " 'buy flower',\n",
              " 'buy flower online',\n",
              " 'buy internet viagra',\n",
              " 'buy ionamin',\n",
              " 'buy line phentermine',\n",
              " 'buy meridia',\n",
              " 'buy meridia online',\n",
              " 'buy online phentermine',\n",
              " 'buy online viagra',\n",
              " 'buy online xenical',\n",
              " 'buy phentermine',\n",
              " 'buy propecia',\n",
              " 'buy tenuate',\n",
              " 'buy valtrex',\n",
              " 'buy viagra',\n",
              " 'buy viagra on line',\n",
              " 'buy viagra where',\n",
              " 'buy xenical',\n",
              " 'buy zyban',\n",
              " 'buying car',\n",
              " 'buying car new',\n",
              " 'buying online viagra',\n",
              " 'buying viagra',\n",
              " 'c vitamin',\n",
              " 'ca diego hotel san',\n",
              " 'ca francisco hotel san',\n",
              " 'cadillac',\n",
              " 'calcium',\n",
              " 'calculation mortgage',\n",
              " 'calculator',\n",
              " 'calculator home mortgage',\n",
              " 'calculator loan mortgage',\n",
              " 'calculator mortgage',\n",
              " 'calculator mortgage payment',\n",
              " 'calendar',\n",
              " 'california',\n",
              " 'california diego hotel san',\n",
              " 'california equity home loan',\n",
              " 'california francisco hotel in san',\n",
              " 'california francisco hotel san',\n",
              " 'california home loan',\n",
              " 'california hotel',\n",
              " 'california loan mortgage',\n",
              " 'california mortgage',\n",
              " 'california vacation',\n",
              " 'call cheap distance long',\n",
              " 'call distance long',\n",
              " 'call distance long phone',\n",
              " 'calling card',\n",
              " 'calling distance long',\n",
              " 'calling distance long plan',\n",
              " 'cam sex',\n",
              " 'camcorder',\n",
              " 'camera',\n",
              " 'camera digital',\n",
              " 'camry toyota',\n",
              " 'cancun',\n",
              " 'cancun hotel',\n",
              " 'cancun hotel mexico',\n",
              " 'cancun vacation',\n",
              " 'candle',\n",
              " 'candle holder',\n",
              " 'candy',\n",
              " 'canon',\n",
              " 'canon cartridge',\n",
              " 'canon cartridge ink',\n",
              " 'canon cartridge ink jet',\n",
              " 'canon cartridge ink printer',\n",
              " 'canon cartridge inkjet',\n",
              " 'canon cartridge printer',\n",
              " 'canon cartridge toner',\n",
              " 'canon copier toner',\n",
              " 'canon ink',\n",
              " 'canon ink printer',\n",
              " 'canon laser toner',\n",
              " 'canon printer',\n",
              " 'canon printer supply',\n",
              " 'canon toner',\n",
              " 'canyon grand hotel',\n",
              " 'car',\n",
              " 'car insurance quote',\n",
              " 'car loan',\n",
              " 'car loan new',\n",
              " 'car new',\n",
              " 'car new price',\n",
              " 'car new pricing',\n",
              " 'car price',\n",
              " 'car rental',\n",
              " 'car sale',\n",
              " 'caravan dodge',\n",
              " 'card',\n",
              " 'card card credit master',\n",
              " 'card casino game',\n",
              " 'card company credit',\n",
              " 'card company credit processing',\n",
              " 'card consolidate credit debt',\n",
              " 'card consolidation credit',\n",
              " 'card consolidation credit debt',\n",
              " 'card credit',\n",
              " 'card credit debt',\n",
              " 'card credit debt help',\n",
              " 'card credit debt management',\n",
              " 'card credit debt reduction',\n",
              " 'card credit debt relief',\n",
              " 'card credit free',\n",
              " 'card credit instant',\n",
              " 'card credit interest low',\n",
              " 'card credit interest low rate',\n",
              " 'card credit internet',\n",
              " 'card credit internet processing',\n",
              " 'card credit low rate',\n",
              " 'card credit merchant',\n",
              " 'card credit offer',\n",
              " 'card credit online',\n",
              " 'card credit online processing',\n",
              " 'card credit processing',\n",
              " 'card credit rate',\n",
              " 'card credit secured',\n",
              " 'card credit service',\n",
              " 'card credit student',\n",
              " 'card credit unsecured',\n",
              " 'card credit visa',\n",
              " 'card gambling',\n",
              " 'card game',\n",
              " 'card game online',\n",
              " 'card game poker',\n",
              " 'card master visa',\n",
              " 'card phone',\n",
              " 'card visa',\n",
              " 'care product skin',\n",
              " 'care skin',\n",
              " 'career home work',\n",
              " 'caribbean',\n",
              " 'caribbean cruise',\n",
              " 'caribbean cruise line royal',\n",
              " 'caribbean cruise royal',\n",
              " 'caribbean poker',\n",
              " 'caribbean poker stud',\n",
              " 'caribbean travel',\n",
              " 'caribbean vacation',\n",
              " 'carlo monte',\n",
              " 'carnitine',\n",
              " 'carnitine l',\n",
              " 'carnival cruise',\n",
              " 'carnival cruise line',\n",
              " 'carolina charleston hotel south',\n",
              " 'carolina charlotte hotel north',\n",
              " 'carrier distance long',\n",
              " 'carrier distance long phone',\n",
              " 'cart ecommerce shopping',\n",
              " 'cart online shopping',\n",
              " 'cart program shopping',\n",
              " 'cart shopping',\n",
              " 'cart shopping software',\n",
              " 'cartilage shark',\n",
              " 'cartridge',\n",
              " 'cartridge cheap ink',\n",
              " 'cartridge cheap inkjet',\n",
              " 'cartridge compaq ink',\n",
              " 'cartridge compaq inkjet',\n",
              " 'cartridge compatible inkjet',\n",
              " 'cartridge copier toner',\n",
              " 'cartridge discount ink',\n",
              " 'cartridge discount inkjet',\n",
              " 'cartridge discount printer',\n",
              " 'cartridge discount toner',\n",
              " 'cartridge epson',\n",
              " 'cartridge epson ink',\n",
              " 'cartridge epson ink jet',\n",
              " 'cartridge epson ink printer',\n",
              " 'cartridge epson inkjet',\n",
              " 'cartridge epson print',\n",
              " 'cartridge epson printer',\n",
              " 'cartridge hewlett ink jet packard',\n",
              " 'cartridge hewlett ink packard',\n",
              " 'cartridge hewlett inkjet packard',\n",
              " 'cartridge hewlett packard',\n",
              " 'cartridge hewlett packard printer',\n",
              " 'cartridge hewlett packard toner',\n",
              " 'cartridge hp',\n",
              " 'cartridge hp ink',\n",
              " 'cartridge hp ink jet',\n",
              " 'cartridge hp ink printer',\n",
              " 'cartridge hp inkjet',\n",
              " 'cartridge hp inkjet printer',\n",
              " 'cartridge hp printer',\n",
              " 'cartridge hp toner',\n",
              " 'cartridge ink',\n",
              " 'cartridge ink inkjet printer',\n",
              " 'cartridge ink jet printer',\n",
              " 'cartridge ink jet refill',\n",
              " 'cartridge ink lexmark',\n",
              " 'cartridge ink lexmark printer',\n",
              " 'cartridge ink printer',\n",
              " 'cartridge ink refill',\n",
              " 'cartridge ink xerox',\n",
              " 'cartridge inkjet',\n",
              " 'cartridge inkjet lexmark',\n",
              " 'cartridge inkjet print',\n",
              " 'cartridge inkjet printer',\n",
              " 'cartridge inkjet refill',\n",
              " 'cartridge inkjet xerox',\n",
              " 'cartridge laser',\n",
              " 'cartridge laser printer toner',\n",
              " 'cartridge laser toner',\n",
              " 'cartridge laserjet',\n",
              " 'cartridge lexmark',\n",
              " 'cartridge lexmark print',\n",
              " 'cartridge lexmark printer',\n",
              " 'cartridge lexmark toner',\n",
              " 'cartridge print',\n",
              " 'cartridge printer',\n",
              " 'cartridge printer refill',\n",
              " 'cartridge printer toner',\n",
              " 'cartridge toner',\n",
              " 'cartridge toner xerox',\n",
              " 'case computer',\n",
              " 'cash',\n",
              " 'cash casino free',\n",
              " 'cash casino free online',\n",
              " 'cash earn',\n",
              " 'cash earn extra',\n",
              " 'casino',\n",
              " 'casino chip',\n",
              " 'casino chip free',\n",
              " 'casino club gaming',\n",
              " 'casino craps',\n",
              " 'casino cyber',\n",
              " 'casino directory',\n",
              " 'casino directory online',\n",
              " 'casino download',\n",
              " 'casino download game',\n",
              " 'casino download no online',\n",
              " 'casino free',\n",
              " 'casino free gambling',\n",
              " 'casino free gambling online',\n",
              " 'casino free game',\n",
              " 'casino free game online',\n",
              " 'casino free money',\n",
              " 'casino free online',\n",
              " 'casino free slot',\n",
              " 'casino gamble',\n",
              " 'casino gambling',\n",
              " 'casino gambling game',\n",
              " 'casino gambling game online',\n",
              " 'casino gambling internet',\n",
              " 'casino gambling internet online',\n",
              " 'casino gambling line',\n",
              " 'casino gambling online',\n",
              " 'casino gambling online secure',\n",
              " 'casino gambling virtual',\n",
              " 'casino game',\n",
              " 'casino game internet',\n",
              " ...]"
            ]
          },
          "metadata": {},
          "execution_count": 67
        }
      ],
      "source": [
        "labels"
      ]
    },
    {
      "cell_type": "markdown",
      "metadata": {
        "id": "KU3dKeir_jCo"
      },
      "source": [
        "Perfrom the second task from the tutorial. First, calculate the Laplacian matrix, L=D-A, find its second smallest eigenvector, sort it, and use the found indicies to find interpretable clusters of advertising terms (2-3 such clusters is enough). As an alternative out-of-the-box solution, you can use the implementation of Spectral Clustering with a given number of clusters from scikit-learn: http://scikit-learn.org/stable/modules/generated/sklearn.cluster.SpectralClustering.html"
      ]
    },
    {
      "cell_type": "code",
      "execution_count": 68,
      "metadata": {
        "collapsed": true,
        "id": "SHrxEFAs_jCo"
      },
      "outputs": [],
      "source": [
        "assert A_small.shape == (3000, 2000)"
      ]
    },
    {
      "cell_type": "code",
      "source": [
        "plt.pcolormesh(A)"
      ],
      "metadata": {
        "colab": {
          "base_uri": "https://localhost:8080/",
          "height": 287
        },
        "id": "EPoL58xCOdCq",
        "outputId": "fe0d873c-3865-4e0b-df26-dd6b695110b0"
      },
      "execution_count": 69,
      "outputs": [
        {
          "output_type": "execute_result",
          "data": {
            "text/plain": [
              "<matplotlib.collections.QuadMesh at 0x7f9f8ba568b0>"
            ]
          },
          "metadata": {},
          "execution_count": 69
        },
        {
          "output_type": "display_data",
          "data": {
            "text/plain": [
              "<Figure size 432x288 with 1 Axes>"
            ],
            "image/png": "[encoded data removed]"
          },
          "metadata": {
            "needs_background": "light"
          }
        }
      ]
    },
    {
      "cell_type": "code",
      "source": [
        "#checking the symmetry\n",
        "sum(sum(np.abs(A-A.T)))"
      ],
      "metadata": {
        "colab": {
          "base_uri": "https://localhost:8080/"
        },
        "id": "TYfLs1G2VzDv",
        "outputId": "7d90e643-b697-4bd2-87a0-c2a0426887bd"
      },
      "execution_count": 70,
      "outputs": [
        {
          "output_type": "execute_result",
          "data": {
            "text/plain": [
              "0.0"
            ]
          },
          "metadata": {},
          "execution_count": 70
        }
      ]
    },
    {
      "cell_type": "code",
      "source": [
        "#cheking the main diagonal -- it should be empty\n",
        "sum(np.diag(A))"
      ],
      "metadata": {
        "colab": {
          "base_uri": "https://localhost:8080/"
        },
        "id": "FJXGhePVV3Fh",
        "outputId": "64271707-5c82-4625-fafa-68344f24f53a"
      },
      "execution_count": 71,
      "outputs": [
        {
          "output_type": "execute_result",
          "data": {
            "text/plain": [
              "0.0"
            ]
          },
          "metadata": {},
          "execution_count": 71
        }
      ]
    },
    {
      "cell_type": "code",
      "source": [
        "D = np.diag(sum(A))"
      ],
      "metadata": {
        "id": "RHaUzjWpV3i0"
      },
      "execution_count": 72,
      "outputs": []
    },
    {
      "cell_type": "code",
      "source": [
        "min(sum(A))"
      ],
      "metadata": {
        "colab": {
          "base_uri": "https://localhost:8080/"
        },
        "id": "lckFzTJEXDKt",
        "outputId": "fa0eeb08-9584-474e-81e2-4a58d7b78425"
      },
      "execution_count": 73,
      "outputs": [
        {
          "output_type": "execute_result",
          "data": {
            "text/plain": [
              "13.0"
            ]
          },
          "metadata": {},
          "execution_count": 73
        }
      ]
    },
    {
      "cell_type": "code",
      "source": [
        "plt.pcolormesh(D)"
      ],
      "metadata": {
        "colab": {
          "base_uri": "https://localhost:8080/",
          "height": 287
        },
        "id": "ye8huA4ZXJU5",
        "outputId": "b2f09ec4-784f-43c8-91f4-5d8084982814"
      },
      "execution_count": 74,
      "outputs": [
        {
          "output_type": "execute_result",
          "data": {
            "text/plain": [
              "<matplotlib.collections.QuadMesh at 0x7f9f8a5e8e20>"
            ]
          },
          "metadata": {},
          "execution_count": 74
        },
        {
          "output_type": "display_data",
          "data": {
            "text/plain": [
              "<Figure size 432x288 with 1 Axes>"
            ],
            "image/png": "[encoded data removed]"
          },
          "metadata": {
            "needs_background": "light"
          }
        }
      ]
    },
    {
      "cell_type": "code",
      "source": [
        "L = D - A"
      ],
      "metadata": {
        "id": "qcEELVFCXL8k"
      },
      "execution_count": 75,
      "outputs": []
    },
    {
      "cell_type": "code",
      "source": [
        "W, V = eigsh(L,which='SA') #six (by default) eignvalues are sorted in desceding order (by which='SA')"
      ],
      "metadata": {
        "id": "jRfMp7kOYd3x"
      },
      "execution_count": 76,
      "outputs": []
    },
    {
      "cell_type": "code",
      "source": [
        "W.shape"
      ],
      "metadata": {
        "colab": {
          "base_uri": "https://localhost:8080/"
        },
        "id": "vg3QDBZPYelq",
        "outputId": "24bfabe1-3ad2-4005-aadc-ae8cc066b11e"
      },
      "execution_count": 77,
      "outputs": [
        {
          "output_type": "execute_result",
          "data": {
            "text/plain": [
              "(6,)"
            ]
          },
          "metadata": {},
          "execution_count": 77
        }
      ]
    },
    {
      "cell_type": "code",
      "source": [
        "W"
      ],
      "metadata": {
        "colab": {
          "base_uri": "https://localhost:8080/"
        },
        "id": "ZQUHuzyCYmtp",
        "outputId": "ba586058-9f30-40fc-ee23-48c630d5981b"
      },
      "execution_count": 78,
      "outputs": [
        {
          "output_type": "execute_result",
          "data": {
            "text/plain": [
              "array([5.16931430e-14, 6.03137518e-01, 1.21876765e+00, 1.41136831e+00,\n",
              "       1.48086295e+00, 1.83181136e+00])"
            ]
          },
          "metadata": {},
          "execution_count": 78
        }
      ]
    },
    {
      "cell_type": "code",
      "source": [
        "V[:,1]"
      ],
      "metadata": {
        "colab": {
          "base_uri": "https://localhost:8080/"
        },
        "id": "CdQQo1D6YoUS",
        "outputId": "7b225f36-3162-426c-e503-dd4da172753c"
      },
      "execution_count": 79,
      "outputs": [
        {
          "output_type": "execute_result",
          "data": {
            "text/plain": [
              "array([-0.00707127, -0.0060928 ,  0.02470685, ..., -0.00596939,\n",
              "       -0.00111429, -0.00623398])"
            ]
          },
          "metadata": {},
          "execution_count": 79
        }
      ]
    },
    {
      "cell_type": "code",
      "source": [
        "min(W), max(W)"
      ],
      "metadata": {
        "id": "pP7gDbhYYsu0",
        "colab": {
          "base_uri": "https://localhost:8080/"
        },
        "outputId": "1cef63dc-2ccf-4ee0-8021-109abec83d1c"
      },
      "execution_count": 80,
      "outputs": [
        {
          "output_type": "execute_result",
          "data": {
            "text/plain": [
              "(5.1693142970476894e-14, 1.8318113607062436)"
            ]
          },
          "metadata": {},
          "execution_count": 80
        }
      ]
    },
    {
      "cell_type": "code",
      "source": [
        "V[:,0] #the first smallest eigenvalue corresponds to the first eigenvector – should be a constant vector k*e, where e=(1,1,...,1), where k=sqrt(1/n)"
      ],
      "metadata": {
        "colab": {
          "base_uri": "https://localhost:8080/"
        },
        "id": "bJaomzsBd9ra",
        "outputId": "c2c3eab1-7a81-4ee7-f43e-08b2f5ba18cc"
      },
      "execution_count": 81,
      "outputs": [
        {
          "output_type": "execute_result",
          "data": {
            "text/plain": [
              "array([0.01414214, 0.01414214, 0.01414214, ..., 0.01414214, 0.01414214,\n",
              "       0.01414214])"
            ]
          },
          "metadata": {},
          "execution_count": 81
        }
      ]
    },
    {
      "cell_type": "code",
      "source": [
        "sqrt(1/5000)"
      ],
      "metadata": {
        "colab": {
          "base_uri": "https://localhost:8080/"
        },
        "id": "9Evk7UZ6eGfg",
        "outputId": "6f3eab0a-e898-42a3-dc9b-a8d1d7e99620"
      },
      "execution_count": 84,
      "outputs": [
        {
          "output_type": "execute_result",
          "data": {
            "text/plain": [
              "0.01414213562373095"
            ]
          },
          "metadata": {},
          "execution_count": 84
        }
      ]
    },
    {
      "cell_type": "code",
      "source": [
        "X=V[:,1] #the second smallest eigenvalue corresponds to the second eigenvector\n",
        "Y=V[:,2]"
      ],
      "metadata": {
        "id": "XO5sOYVZeVGC"
      },
      "execution_count": 85,
      "outputs": []
    },
    {
      "cell_type": "code",
      "source": [
        "Ids1=np.argsort(X)\n",
        "Ids2=np.argsort(Y)"
      ],
      "metadata": {
        "id": "F2jTBR6yefb_"
      },
      "execution_count": 86,
      "outputs": []
    },
    {
      "cell_type": "code",
      "source": [
        "plt.plot(X, \"o\") # original X"
      ],
      "metadata": {
        "colab": {
          "base_uri": "https://localhost:8080/",
          "height": 283
        },
        "id": "7PJ0tfpkeh3o",
        "outputId": "34b17128-40c4-4139-ec46-1408a713f1e8"
      },
      "execution_count": 88,
      "outputs": [
        {
          "output_type": "execute_result",
          "data": {
            "text/plain": [
              "[<matplotlib.lines.Line2D at 0x7f9f8a27ed60>]"
            ]
          },
          "metadata": {},
          "execution_count": 88
        },
        {
          "output_type": "display_data",
          "data": {
            "text/plain": [
              "<Figure size 432x288 with 1 Axes>"
            ],
            "image/png": "[encoded data removed]"
          },
          "metadata": {
            "needs_background": "light"
          }
        }
      ]
    },
    {
      "cell_type": "code",
      "source": [
        "plt.plot(X[Ids1])"
      ],
      "metadata": {
        "colab": {
          "base_uri": "https://localhost:8080/",
          "height": 283
        },
        "id": "uLmXmtIUelSg",
        "outputId": "b53547b2-def7-4736-e1b1-3fd418c36271"
      },
      "execution_count": 89,
      "outputs": [
        {
          "output_type": "execute_result",
          "data": {
            "text/plain": [
              "[<matplotlib.lines.Line2D at 0x7f9f8a1d3ca0>]"
            ]
          },
          "metadata": {},
          "execution_count": 89
        },
        {
          "output_type": "display_data",
          "data": {
            "text/plain": [
              "<Figure size 432x288 with 1 Axes>"
            ],
            "image/png": "[encoded data removed]"
          },
          "metadata": {
            "needs_background": "light"
          }
        }
      ]
    },
    {
      "cell_type": "code",
      "source": [
        "plt.plot(X[Ids1], Y[Ids2], \"*\") # sorted X"
      ],
      "metadata": {
        "colab": {
          "base_uri": "https://localhost:8080/",
          "height": 283
        },
        "id": "W10PQyP0exWO",
        "outputId": "487b4396-9247-4e91-8a24-aea5b9a7bd81"
      },
      "execution_count": 90,
      "outputs": [
        {
          "output_type": "execute_result",
          "data": {
            "text/plain": [
              "[<matplotlib.lines.Line2D at 0x7f9f8a14bd00>]"
            ]
          },
          "metadata": {},
          "execution_count": 90
        },
        {
          "output_type": "display_data",
          "data": {
            "text/plain": [
              "<Figure size 432x288 with 1 Axes>"
            ],
            "image/png": "[encoded data removed]"
          },
          "metadata": {
            "needs_background": "light"
          }
        }
      ]
    },
    {
      "cell_type": "code",
      "source": [
        "sum(np.dot(L,X)) #the result is non-zero"
      ],
      "metadata": {
        "colab": {
          "base_uri": "https://localhost:8080/"
        },
        "id": "ZdL2tXrve9qS",
        "outputId": "5c9bf77d-67c0-4666-e2ad-7a0e6a752df4"
      },
      "execution_count": 91,
      "outputs": [
        {
          "output_type": "execute_result",
          "data": {
            "text/plain": [
              "1.513025815746971e-14"
            ]
          },
          "metadata": {},
          "execution_count": 91
        }
      ]
    },
    {
      "cell_type": "code",
      "source": [
        "sum(np.dot(L,V[:,0])) #due to numerical instability the result is non-zero for the first vector too"
      ],
      "metadata": {
        "colab": {
          "base_uri": "https://localhost:8080/"
        },
        "id": "CWu9x3MufCFw",
        "outputId": "85955b62-40bc-45cd-972f-d5f175804ac6"
      },
      "execution_count": 92,
      "outputs": [
        {
          "output_type": "execute_result",
          "data": {
            "text/plain": [
              "-1.0392728344577051e-14"
            ]
          },
          "metadata": {},
          "execution_count": 92
        }
      ]
    },
    {
      "cell_type": "code",
      "source": [
        "plt.plot(V[:,0]) # but it does not suite our purpose"
      ],
      "metadata": {
        "colab": {
          "base_uri": "https://localhost:8080/",
          "height": 294
        },
        "id": "aAteHOv8fKGk",
        "outputId": "1f944155-fec2-4c08-a3c7-d9beff30c007"
      },
      "execution_count": 93,
      "outputs": [
        {
          "output_type": "execute_result",
          "data": {
            "text/plain": [
              "[<matplotlib.lines.Line2D at 0x7f9f8a114ac0>]"
            ]
          },
          "metadata": {},
          "execution_count": 93
        },
        {
          "output_type": "display_data",
          "data": {
            "text/plain": [
              "<Figure size 432x288 with 1 Axes>"
            ],
            "image/png": "[encoded data removed]"
          },
          "metadata": {
            "needs_background": "light"
          }
        }
      ]
    },
    {
      "cell_type": "code",
      "source": [
        "B = A[Ids1,:] # let us sort our matrix according to the new order of the second vector components; first, by rows"
      ],
      "metadata": {
        "id": "TP2t-mF2fRIS"
      },
      "execution_count": 94,
      "outputs": []
    },
    {
      "cell_type": "code",
      "source": [
        "plt.pcolormesh(B)"
      ],
      "metadata": {
        "colab": {
          "base_uri": "https://localhost:8080/",
          "height": 287
        },
        "id": "nmtCq4J7fYrj",
        "outputId": "197dda7c-3e7b-42a2-f11d-87e96b83b6f9"
      },
      "execution_count": 95,
      "outputs": [
        {
          "output_type": "execute_result",
          "data": {
            "text/plain": [
              "<matplotlib.collections.QuadMesh at 0x7f9f96085130>"
            ]
          },
          "metadata": {},
          "execution_count": 95
        },
        {
          "output_type": "display_data",
          "data": {
            "text/plain": [
              "<Figure size 432x288 with 1 Axes>"
            ],
            "image/png": "[encoded data removed]"
          },
          "metadata": {
            "needs_background": "light"
          }
        }
      ]
    },
    {
      "cell_type": "code",
      "source": [
        "plt.pcolormesh(B[:,Ids1]) # second, by columns"
      ],
      "metadata": {
        "colab": {
          "base_uri": "https://localhost:8080/",
          "height": 287
        },
        "id": "oY1ox6IMfcAW",
        "outputId": "1a7a0f72-1956-4d9d-ae1e-f1323f20002d"
      },
      "execution_count": 96,
      "outputs": [
        {
          "output_type": "execute_result",
          "data": {
            "text/plain": [
              "<matplotlib.collections.QuadMesh at 0x7f9f8a2b0d60>"
            ]
          },
          "metadata": {},
          "execution_count": 96
        },
        {
          "output_type": "display_data",
          "data": {
            "text/plain": [
              "<Figure size 432x288 with 1 Axes>"
            ],
            "image/png": "[encoded data removed]"
          },
          "metadata": {
            "needs_background": "light"
          }
        }
      ]
    },
    {
      "cell_type": "code",
      "source": [
        "e = np.ones(5000) # checking the constant vector"
      ],
      "metadata": {
        "id": "hEOXNcYVfm4L"
      },
      "execution_count": 98,
      "outputs": []
    },
    {
      "cell_type": "code",
      "source": [
        "e"
      ],
      "metadata": {
        "colab": {
          "base_uri": "https://localhost:8080/"
        },
        "id": "qI21-Rc3f8_L",
        "outputId": "dc0f2e87-6fca-4ebc-e486-a347dd11446b"
      },
      "execution_count": 99,
      "outputs": [
        {
          "output_type": "execute_result",
          "data": {
            "text/plain": [
              "array([1., 1., 1., ..., 1., 1., 1.])"
            ]
          },
          "metadata": {},
          "execution_count": 99
        }
      ]
    },
    {
      "cell_type": "code",
      "source": [
        "np.dot(L,e) # it corresponds to zero eigenvalue"
      ],
      "metadata": {
        "colab": {
          "base_uri": "https://localhost:8080/"
        },
        "id": "zuVDUPDSf_q4",
        "outputId": "c6748c74-796b-405d-c3b2-cc3a9b7b4b05"
      },
      "execution_count": 100,
      "outputs": [
        {
          "output_type": "execute_result",
          "data": {
            "text/plain": [
              "array([0., 0., 0., ..., 0., 0., 0.])"
            ]
          },
          "metadata": {},
          "execution_count": 100
        }
      ]
    },
    {
      "cell_type": "code",
      "source": [
        "sum(np.dot(L,e))"
      ],
      "metadata": {
        "colab": {
          "base_uri": "https://localhost:8080/"
        },
        "id": "nuQ1AQGHhucc",
        "outputId": "ad5fd4dd-3b20-4a8f-a079-d04ca28f3263"
      },
      "execution_count": 102,
      "outputs": [
        {
          "output_type": "execute_result",
          "data": {
            "text/plain": [
              "0.0"
            ]
          },
          "metadata": {},
          "execution_count": 102
        }
      ]
    },
    {
      "cell_type": "code",
      "source": [
        "W[0] # even though due to numeric instability it is not zero in our method"
      ],
      "metadata": {
        "colab": {
          "base_uri": "https://localhost:8080/"
        },
        "id": "xCrytOvagDG1",
        "outputId": "9ca3a2ad-b645-4bf3-b096-86d3c2e4923d"
      },
      "execution_count": 101,
      "outputs": [
        {
          "output_type": "execute_result",
          "data": {
            "text/plain": [
              "5.1693142970476894e-14"
            ]
          },
          "metadata": {},
          "execution_count": 101
        }
      ]
    }
  ],
  "metadata": {
    "colab": {
      "provenance": []
    },
    "kernelspec": {
      "display_name": "Python 3",
      "language": "python",
      "name": "python3"
    },
    "language_info": {
      "codemirror_mode": {
        "name": "ipython",
        "version": 3
      },
      "file_extension": ".py",
      "mimetype": "text/x-python",
      "name": "python",
      "nbconvert_exporter": "python",
      "pygments_lexer": "ipython3",
      "version": "3.8.8"
    }
  },
  "nbformat": 4,
  "nbformat_minor": 0
}